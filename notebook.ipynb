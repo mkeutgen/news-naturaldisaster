{
 "cells": [
  {
   "cell_type": "markdown",
   "metadata": {},
   "source": [
    "# Climate change as a cause of natural hazards\n",
    "## Maxime Keutgen r0828809"
   ]
  },
  {
   "cell_type": "markdown",
   "metadata": {},
   "source": [
    "### Table of Contents :\n",
    "\n",
    ">#### 1. Introduction\n",
    ">#### 2. Text analysis of the press coverage of recent floods in Belgium\n",
    ">#### 3. Climate change as an explanation for natural disasters across time\n",
    ">#### 4. Conclusion\n"
   ]
  },
  {
   "cell_type": "markdown",
   "metadata": {},
   "source": [
    "## 1. Introduction\n",
    "### 1.1 Context"
   ]
  },
  {
   "cell_type": "markdown",
   "metadata": {},
   "source": [
    "Recently, Belgium and Germany have been affected by large scale dramatic floods. Natural disasters are becoming more frequent due to climate change. According to the [US Geological Survey](https://www.usgs.gov/faqs/what-are-long-term-effects-climate-change-1?qt-news_science_products=0#qt-news_science_products), climate change is expected to lead to an increase in flash floods in Europe. Scientists are working hard to predict and mitigate the impacts of these natural hazards. However, scientists' preferential way of communicating is through scientific journals, a channel esoteric to the general public.\n",
    "\n",
    "Nevertheless, in the beginning of August 2021, the Intergovernmental Panel on Climate Change (IPCC), a United Nation's institution, published its 6th report. This is a noticable event not only for the scientific community but also for policy-makers and the general public. Indeed, since the creation of the IPCC, its reports have been [fed directly into international policy making](https://www.ipcc.ch/about/history/). This is perfectly understandable knowing that IPCC's goal is to provide to policy-makers of the globe the scientific consensus on climate change, its present and future consequences for humankind and what are the ways at our disposal to mitigate this phenomenon. \n",
    "\n",
    "Our work therefore wish to study the propagation of a scientific concept (climate change) through mass medias. To reach this goal, we shall act in two steps. In the first step, the floods of July 2021 in Belgium and Germany provide a case study to assess how mass media link natural hazards to systemic reasons on one hand (climate change, land erosion, poor agricultural practices) or more unique reasons (political mismanagment, dam failure, etc) on the other hand. For this purpose, we will scrap news article published in English and French and conduct a word frequency analysis.\n",
    "\n",
    "In the second part of this work, we will focus on one single international newspaper, the *Guardian* to study whether the frequency of climate change and related expression has increased over time in articles dealing with natural hazards. \n",
    "\n",
    "Eventually, we hope to provide an assesment of how climate change is seen as a cause of natural disasters in the public discourse with both a longitudinal analysis from one newspaper and a cross-sectional analysis from many newspapers over a recent event which impacted Belgium and Germany. \n",
    "\n"
   ]
  },
  {
   "cell_type": "markdown",
   "metadata": {},
   "source": [
    "### 1.2 Loading packages "
   ]
  },
  {
   "cell_type": "markdown",
   "metadata": {},
   "source": [
    "This command allows autocompletion in Jupyter Notebook"
   ]
  },
  {
   "cell_type": "code",
   "execution_count": 8,
   "metadata": {},
   "outputs": [],
   "source": [
    "%config Completer.use_jedi = False"
   ]
  },
  {
   "cell_type": "markdown",
   "metadata": {},
   "source": [
    "Loading packages"
   ]
  },
  {
   "cell_type": "code",
   "execution_count": 9,
   "metadata": {},
   "outputs": [],
   "source": [
    "# scraping libraries \n",
    "import requests\n",
    "import json\n",
    "\n",
    "# data manipulation libraries\n",
    "import pandas as pd\n",
    "import numpy as np\n",
    "\n",
    "# ploting libraries \n",
    "import matplotlib.pyplot as plt\n",
    "import seaborn as sns\n",
    " \n",
    "# machine learning libraries\n",
    "import pdtext.tf\n",
    "from sklearn.linear_model import LinearRegression\n",
    "from sklearn.linear_model import LogisticRegression\n",
    "from sklearn.feature_extraction.text import CountVectorizer\n",
    "from sklearn.model_selection import train_test_split"
   ]
  },
  {
   "cell_type": "markdown",
   "metadata": {},
   "source": [
    "## 2. Text analysis of the press coverage of recent floods in Belgium\n",
    "### 2.1 Getting the data"
   ]
  },
  {
   "cell_type": "markdown",
   "metadata": {},
   "source": [
    "We begin by using [NewsAPI](https://newsapi.org/), an API which is an alternative to Google News API. We want to collect the news concerning floods which occured in Belgium in mid-July 2021. We scrap articles published in English and French (the latter being one of the official language of Belgium). The free version of NewsAPI is restricted to a hundred results per HTTP request."
   ]
  },
  {
   "cell_type": "code",
   "execution_count": 29,
   "metadata": {},
   "outputs": [],
   "source": [
    "# URL :\n",
    "\n",
    "api_key = '23c80efe71bd44639e1263333db99b4e'\n",
    "url_en = ('https://newsapi.org/v2/everything?'\n",
    "       'q=Belgium+Flood&'\n",
    "        'pageSize=100'\n",
    "        '&page=100'\n",
    "       'from=2021-07-15&'\n",
    "       'sortBy=popularity&'\n",
    "       'language=en&'  \n",
    "       'apiKey='api_key)\n",
    "\n",
    "\n",
    "\n",
    "url_fr = ('https://newsapi.org/v2/everything?'\n",
    "       'q=Belgique+Inondation&'\n",
    "       'from=2021-07-16&'\n",
    "        'pageSize=100'\n",
    "        '&page=100'\n",
    "       'sortBy=popularity&'\n",
    "       'language=fr&'\n",
    "       'apiKey='api_key)\n",
    "\n",
    "\n",
    "# Get the response from the HTTP request using the 'requests' package :\n",
    "\n",
    "\n",
    "response_en = requests.get(url_en)\n",
    "\n",
    "response_fr = requests.get(url_fr)\n",
    "\n",
    "\n",
    "# Create json dictionaries \n",
    "\n",
    "response_json_en = response_en.json()\n",
    "\n",
    "\n",
    "response_json_fr = response_fr.json()\n",
    "\n",
    "\n"
   ]
  },
  {
   "cell_type": "markdown",
   "metadata": {},
   "source": [
    "The cell above results in \"response_json_en\" and response_json_fr\", two json dictionnaries. We will now transform the json dictionaries to clean panda dataframes, one containing English-language articles :"
   ]
  },
  {
   "cell_type": "code",
   "execution_count": 30,
   "metadata": {},
   "outputs": [
    {
     "data": {
      "text/html": [
       "<div>\n",
       "<style scoped>\n",
       "    .dataframe tbody tr th:only-of-type {\n",
       "        vertical-align: middle;\n",
       "    }\n",
       "\n",
       "    .dataframe tbody tr th {\n",
       "        vertical-align: top;\n",
       "    }\n",
       "\n",
       "    .dataframe thead th {\n",
       "        text-align: right;\n",
       "    }\n",
       "</style>\n",
       "<table border=\"1\" class=\"dataframe\">\n",
       "  <thead>\n",
       "    <tr style=\"text-align: right;\">\n",
       "      <th></th>\n",
       "      <th>author</th>\n",
       "      <th>title</th>\n",
       "      <th>description</th>\n",
       "      <th>url</th>\n",
       "      <th>urlToImage</th>\n",
       "      <th>publishedAt</th>\n",
       "      <th>content</th>\n",
       "      <th>source.id</th>\n",
       "      <th>source.name</th>\n",
       "    </tr>\n",
       "  </thead>\n",
       "  <tbody>\n",
       "    <tr>\n",
       "      <th>0</th>\n",
       "      <td>Molly Taft</td>\n",
       "      <td>The Worst European Floods in 100 Years Have Le...</td>\n",
       "      <td>At least 120 people have died and around 1,300...</td>\n",
       "      <td>https://gizmodo.com/the-worst-european-floods-...</td>\n",
       "      <td>https://i.kinja-img.com/gawker-media/image/upl...</td>\n",
       "      <td>2021-07-16T16:00:00Z</td>\n",
       "      <td>At least 120 people have died and around 1,300...</td>\n",
       "      <td>None</td>\n",
       "      <td>Gizmodo.com</td>\n",
       "    </tr>\n",
       "    <tr>\n",
       "      <th>1</th>\n",
       "      <td>https://www.facebook.com/bbcnews</td>\n",
       "      <td>Germany floods map: Where are the worst-hit ar...</td>\n",
       "      <td>Maps, images and graphics showing the heavy ra...</td>\n",
       "      <td>https://www.bbc.co.uk/news/world-europe-57862894</td>\n",
       "      <td>https://ichef.bbci.co.uk/news/1024/branded_new...</td>\n",
       "      <td>2021-07-16T16:11:03Z</td>\n",
       "      <td>By The Visual and Data Journalism TeamBBC News...</td>\n",
       "      <td>bbc-news</td>\n",
       "      <td>BBC News</td>\n",
       "    </tr>\n",
       "    <tr>\n",
       "      <th>2</th>\n",
       "      <td>https://www.facebook.com/bbcnews</td>\n",
       "      <td>Germany floods: How a country was taken by sur...</td>\n",
       "      <td>Amid the despair and mounting death toll, peop...</td>\n",
       "      <td>https://www.bbc.co.uk/news/world-europe-57867773</td>\n",
       "      <td>https://ichef.bbci.co.uk/news/1024/branded_new...</td>\n",
       "      <td>2021-07-16T16:04:28Z</td>\n",
       "      <td>image copyrightGetty Images\\r\\nimage captionTh...</td>\n",
       "      <td>bbc-news</td>\n",
       "      <td>BBC News</td>\n",
       "    </tr>\n",
       "    <tr>\n",
       "      <th>3</th>\n",
       "      <td>https://www.facebook.com/bbcnews</td>\n",
       "      <td>Germany floods: 'My city looks like a battlefi...</td>\n",
       "      <td>Witnesses voice their grief and horror at the ...</td>\n",
       "      <td>https://www.bbc.co.uk/news/world-europe-57862570</td>\n",
       "      <td>https://ichef.bbci.co.uk/news/1024/branded_new...</td>\n",
       "      <td>2021-07-16T13:37:08Z</td>\n",
       "      <td>image captionMuch of Schuld has been reduced t...</td>\n",
       "      <td>bbc-news</td>\n",
       "      <td>BBC News</td>\n",
       "    </tr>\n",
       "    <tr>\n",
       "      <th>4</th>\n",
       "      <td>https://www.facebook.com/bbcnews</td>\n",
       "      <td>In pictures: Floods kill dozens in Germany and...</td>\n",
       "      <td>Record rainfall caused rivers to burst their b...</td>\n",
       "      <td>https://www.bbc.co.uk/news/world-europe-57858826</td>\n",
       "      <td>https://ichef.bbci.co.uk/news/1024/branded_new...</td>\n",
       "      <td>2021-07-16T01:37:03Z</td>\n",
       "      <td>Devastating floods have hit parts of western E...</td>\n",
       "      <td>bbc-news</td>\n",
       "      <td>BBC News</td>\n",
       "    </tr>\n",
       "    <tr>\n",
       "      <th>...</th>\n",
       "      <td>...</td>\n",
       "      <td>...</td>\n",
       "      <td>...</td>\n",
       "      <td>...</td>\n",
       "      <td>...</td>\n",
       "      <td>...</td>\n",
       "      <td>...</td>\n",
       "      <td>...</td>\n",
       "      <td>...</td>\n",
       "    </tr>\n",
       "    <tr>\n",
       "      <th>95</th>\n",
       "      <td>None</td>\n",
       "      <td>New floods hit Belgium amid stormy weather - A...</td>\n",
       "      <td>&lt;ol&gt;&lt;li&gt;New floods hit Belgium amid stormy wea...</td>\n",
       "      <td>https://apnews.com/article/europe-floods-storm...</td>\n",
       "      <td>https://storage.googleapis.com/afs-prod/media/...</td>\n",
       "      <td>2021-07-24T20:19:37Z</td>\n",
       "      <td>BRUSSELS (AP) New floods have again swamped ar...</td>\n",
       "      <td>associated-press</td>\n",
       "      <td>Associated Press</td>\n",
       "    </tr>\n",
       "    <tr>\n",
       "      <th>96</th>\n",
       "      <td>Bojan Pancevski</td>\n",
       "      <td>Flooding Prompts Mass Evacuations in Germany, ...</td>\n",
       "      <td>&lt;ol&gt;&lt;li&gt;Flooding Prompts Mass Evacuations in G...</td>\n",
       "      <td>https://www.wsj.com/articles/flooding-prompts-...</td>\n",
       "      <td>https://images.wsj.net/im-371120/social</td>\n",
       "      <td>2021-07-17T12:43:00Z</td>\n",
       "      <td>BERLINGermany and neighboring countries were e...</td>\n",
       "      <td>the-wall-street-journal</td>\n",
       "      <td>The Wall Street Journal</td>\n",
       "    </tr>\n",
       "    <tr>\n",
       "      <th>97</th>\n",
       "      <td>Weiyi Cai, Taylor Johnston, Eleanor Lutz, Tim ...</td>\n",
       "      <td>Maps Showing the Extent of the Flooding in Eur...</td>\n",
       "      <td>&lt;ol&gt;&lt;li&gt;Maps Showing the Extent of the Floodin...</td>\n",
       "      <td>https://www.nytimes.com/interactive/2021/07/17...</td>\n",
       "      <td>https://static01.nyt.com/images/2021/07/17/us/...</td>\n",
       "      <td>2021-07-17T05:11:42Z</td>\n",
       "      <td>Deadly floods swept through parts of Europe th...</td>\n",
       "      <td>None</td>\n",
       "      <td>New York Times</td>\n",
       "    </tr>\n",
       "    <tr>\n",
       "      <th>98</th>\n",
       "      <td>Geir Moulson</td>\n",
       "      <td>Germany defends preparation for floods, consid...</td>\n",
       "      <td>&lt;ol&gt;&lt;li&gt;Germany defends preparation for floods...</td>\n",
       "      <td>https://apnews.com/article/europe-germany-floo...</td>\n",
       "      <td>https://storage.googleapis.com/afs-prod/media/...</td>\n",
       "      <td>2021-07-19T10:01:34Z</td>\n",
       "      <td>BERLIN (AP) German officials are defending the...</td>\n",
       "      <td>associated-press</td>\n",
       "      <td>Associated Press</td>\n",
       "    </tr>\n",
       "    <tr>\n",
       "      <th>99</th>\n",
       "      <td>None</td>\n",
       "      <td>AP PHOTOS: Swollen rivers smash through parts ...</td>\n",
       "      <td>&lt;ol&gt;&lt;li&gt;AP PHOTOS: Swollen rivers smash throug...</td>\n",
       "      <td>https://apnews.com/article/europe-business-gov...</td>\n",
       "      <td>https://storage.googleapis.com/afs-prod/media/...</td>\n",
       "      <td>2021-07-17T08:16:30Z</td>\n",
       "      <td>SCHULD, Germany (AP) Torrential rain turned no...</td>\n",
       "      <td>associated-press</td>\n",
       "      <td>Associated Press</td>\n",
       "    </tr>\n",
       "  </tbody>\n",
       "</table>\n",
       "<p>100 rows × 9 columns</p>\n",
       "</div>"
      ],
      "text/plain": [
       "                                               author  \\\n",
       "0                                          Molly Taft   \n",
       "1                    https://www.facebook.com/bbcnews   \n",
       "2                    https://www.facebook.com/bbcnews   \n",
       "3                    https://www.facebook.com/bbcnews   \n",
       "4                    https://www.facebook.com/bbcnews   \n",
       "..                                                ...   \n",
       "95                                               None   \n",
       "96                                    Bojan Pancevski   \n",
       "97  Weiyi Cai, Taylor Johnston, Eleanor Lutz, Tim ...   \n",
       "98                                       Geir Moulson   \n",
       "99                                               None   \n",
       "\n",
       "                                                title  \\\n",
       "0   The Worst European Floods in 100 Years Have Le...   \n",
       "1   Germany floods map: Where are the worst-hit ar...   \n",
       "2   Germany floods: How a country was taken by sur...   \n",
       "3   Germany floods: 'My city looks like a battlefi...   \n",
       "4   In pictures: Floods kill dozens in Germany and...   \n",
       "..                                                ...   \n",
       "95  New floods hit Belgium amid stormy weather - A...   \n",
       "96  Flooding Prompts Mass Evacuations in Germany, ...   \n",
       "97  Maps Showing the Extent of the Flooding in Eur...   \n",
       "98  Germany defends preparation for floods, consid...   \n",
       "99  AP PHOTOS: Swollen rivers smash through parts ...   \n",
       "\n",
       "                                          description  \\\n",
       "0   At least 120 people have died and around 1,300...   \n",
       "1   Maps, images and graphics showing the heavy ra...   \n",
       "2   Amid the despair and mounting death toll, peop...   \n",
       "3   Witnesses voice their grief and horror at the ...   \n",
       "4   Record rainfall caused rivers to burst their b...   \n",
       "..                                                ...   \n",
       "95  <ol><li>New floods hit Belgium amid stormy wea...   \n",
       "96  <ol><li>Flooding Prompts Mass Evacuations in G...   \n",
       "97  <ol><li>Maps Showing the Extent of the Floodin...   \n",
       "98  <ol><li>Germany defends preparation for floods...   \n",
       "99  <ol><li>AP PHOTOS: Swollen rivers smash throug...   \n",
       "\n",
       "                                                  url  \\\n",
       "0   https://gizmodo.com/the-worst-european-floods-...   \n",
       "1    https://www.bbc.co.uk/news/world-europe-57862894   \n",
       "2    https://www.bbc.co.uk/news/world-europe-57867773   \n",
       "3    https://www.bbc.co.uk/news/world-europe-57862570   \n",
       "4    https://www.bbc.co.uk/news/world-europe-57858826   \n",
       "..                                                ...   \n",
       "95  https://apnews.com/article/europe-floods-storm...   \n",
       "96  https://www.wsj.com/articles/flooding-prompts-...   \n",
       "97  https://www.nytimes.com/interactive/2021/07/17...   \n",
       "98  https://apnews.com/article/europe-germany-floo...   \n",
       "99  https://apnews.com/article/europe-business-gov...   \n",
       "\n",
       "                                           urlToImage           publishedAt  \\\n",
       "0   https://i.kinja-img.com/gawker-media/image/upl...  2021-07-16T16:00:00Z   \n",
       "1   https://ichef.bbci.co.uk/news/1024/branded_new...  2021-07-16T16:11:03Z   \n",
       "2   https://ichef.bbci.co.uk/news/1024/branded_new...  2021-07-16T16:04:28Z   \n",
       "3   https://ichef.bbci.co.uk/news/1024/branded_new...  2021-07-16T13:37:08Z   \n",
       "4   https://ichef.bbci.co.uk/news/1024/branded_new...  2021-07-16T01:37:03Z   \n",
       "..                                                ...                   ...   \n",
       "95  https://storage.googleapis.com/afs-prod/media/...  2021-07-24T20:19:37Z   \n",
       "96            https://images.wsj.net/im-371120/social  2021-07-17T12:43:00Z   \n",
       "97  https://static01.nyt.com/images/2021/07/17/us/...  2021-07-17T05:11:42Z   \n",
       "98  https://storage.googleapis.com/afs-prod/media/...  2021-07-19T10:01:34Z   \n",
       "99  https://storage.googleapis.com/afs-prod/media/...  2021-07-17T08:16:30Z   \n",
       "\n",
       "                                              content  \\\n",
       "0   At least 120 people have died and around 1,300...   \n",
       "1   By The Visual and Data Journalism TeamBBC News...   \n",
       "2   image copyrightGetty Images\\r\\nimage captionTh...   \n",
       "3   image captionMuch of Schuld has been reduced t...   \n",
       "4   Devastating floods have hit parts of western E...   \n",
       "..                                                ...   \n",
       "95  BRUSSELS (AP) New floods have again swamped ar...   \n",
       "96  BERLINGermany and neighboring countries were e...   \n",
       "97  Deadly floods swept through parts of Europe th...   \n",
       "98  BERLIN (AP) German officials are defending the...   \n",
       "99  SCHULD, Germany (AP) Torrential rain turned no...   \n",
       "\n",
       "                  source.id              source.name  \n",
       "0                      None              Gizmodo.com  \n",
       "1                  bbc-news                 BBC News  \n",
       "2                  bbc-news                 BBC News  \n",
       "3                  bbc-news                 BBC News  \n",
       "4                  bbc-news                 BBC News  \n",
       "..                      ...                      ...  \n",
       "95         associated-press         Associated Press  \n",
       "96  the-wall-street-journal  The Wall Street Journal  \n",
       "97                     None           New York Times  \n",
       "98         associated-press         Associated Press  \n",
       "99         associated-press         Associated Press  \n",
       "\n",
       "[100 rows x 9 columns]"
      ]
     },
     "execution_count": 30,
     "metadata": {},
     "output_type": "execute_result"
    }
   ],
   "source": [
    "# transform the json to panda dataframe\n",
    "df_en = pd.json_normalize(response_json_en, 'articles')\n",
    "# print the dataframe\n",
    "df_en"
   ]
  },
  {
   "cell_type": "markdown",
   "metadata": {},
   "source": [
    "And a second one containing French-language articles : "
   ]
  },
  {
   "cell_type": "code",
   "execution_count": 31,
   "metadata": {},
   "outputs": [
    {
     "data": {
      "text/html": [
       "<div>\n",
       "<style scoped>\n",
       "    .dataframe tbody tr th:only-of-type {\n",
       "        vertical-align: middle;\n",
       "    }\n",
       "\n",
       "    .dataframe tbody tr th {\n",
       "        vertical-align: top;\n",
       "    }\n",
       "\n",
       "    .dataframe thead th {\n",
       "        text-align: right;\n",
       "    }\n",
       "</style>\n",
       "<table border=\"1\" class=\"dataframe\">\n",
       "  <thead>\n",
       "    <tr style=\"text-align: right;\">\n",
       "      <th></th>\n",
       "      <th>author</th>\n",
       "      <th>title</th>\n",
       "      <th>description</th>\n",
       "      <th>url</th>\n",
       "      <th>urlToImage</th>\n",
       "      <th>publishedAt</th>\n",
       "      <th>content</th>\n",
       "      <th>source.id</th>\n",
       "      <th>source.name</th>\n",
       "    </tr>\n",
       "  </thead>\n",
       "  <tbody>\n",
       "    <tr>\n",
       "      <th>0</th>\n",
       "      <td>AFP</td>\n",
       "      <td>Crue et pluie-inondation: Météo France place 1...</td>\n",
       "      <td>INTEMPÉRIES - Les pluies abondantes sur l’est ...</td>\n",
       "      <td>https://www.huffingtonpost.fr/entry/crue-et-pl...</td>\n",
       "      <td>https://img.huffingtonpost.com/asset/60f11f833...</td>\n",
       "      <td>2021-07-16T05:57:29Z</td>\n",
       "      <td>INTEMPÉRIES - Les pluies abondantes sur l’est ...</td>\n",
       "      <td>None</td>\n",
       "      <td>Le HuffPost</td>\n",
       "    </tr>\n",
       "    <tr>\n",
       "      <th>1</th>\n",
       "      <td>Le HuffPost avec AFP</td>\n",
       "      <td>Inondations en Allemagne: les dégâts à Schuld ...</td>\n",
       "      <td>INONDATIONS - En deux jours seulement, les ino...</td>\n",
       "      <td>https://www.huffingtonpost.fr/entry/allemagne-...</td>\n",
       "      <td>https://img.huffingtonpost.com/asset/60f18c7e4...</td>\n",
       "      <td>2021-07-16T14:51:10Z</td>\n",
       "      <td>INONDATIONS - En deux jours seulement, les ino...</td>\n",
       "      <td>None</td>\n",
       "      <td>Le HuffPost</td>\n",
       "    </tr>\n",
       "    <tr>\n",
       "      <th>2</th>\n",
       "      <td>None</td>\n",
       "      <td>Les inondations en Allemagne sont les plus meu...</td>\n",
       "      <td>Les inondations en Rhénanie-du-Nord-Westphalie...</td>\n",
       "      <td>https://www.courrierinternational.com/article/...</td>\n",
       "      <td>https://www.courrierinternational.com/sites/ci...</td>\n",
       "      <td>2021-07-16T15:13:31Z</td>\n",
       "      <td>Les inondations en Rhénanie-du-Nord-Westphalie...</td>\n",
       "      <td>None</td>\n",
       "      <td>Courrier International</td>\n",
       "    </tr>\n",
       "    <tr>\n",
       "      <th>3</th>\n",
       "      <td>None</td>\n",
       "      <td>Les inondations en Allemagne sont déjà les plu...</td>\n",
       "      <td>Les inondations en Rhénanie-du-Nord-Westphalie...</td>\n",
       "      <td>https://www.courrierinternational.com/article/...</td>\n",
       "      <td>https://www.courrierinternational.com/sites/ci...</td>\n",
       "      <td>2021-07-16T15:13:31Z</td>\n",
       "      <td>Les inondations en Rhénanie-du-Nord-Westphalie...</td>\n",
       "      <td>None</td>\n",
       "      <td>Courrier International</td>\n",
       "    </tr>\n",
       "    <tr>\n",
       "      <th>4</th>\n",
       "      <td>None</td>\n",
       "      <td>Incendies, crues, chaleur : un mois de conditi...</td>\n",
       "      <td>Les changements climatiques ont provoqué en l’...</td>\n",
       "      <td>https://www.courrierinternational.com/article/...</td>\n",
       "      <td>https://www.courrierinternational.com/sites/ci...</td>\n",
       "      <td>2021-08-05T16:15:57Z</td>\n",
       "      <td>Les changements climatiques ont provoqué en le...</td>\n",
       "      <td>None</td>\n",
       "      <td>Courrier International</td>\n",
       "    </tr>\n",
       "    <tr>\n",
       "      <th>5</th>\n",
       "      <td>None</td>\n",
       "      <td>25 alertes ont été émises avant les inondation...</td>\n",
       "      <td>Le premier avertissement reçu par les autorité...</td>\n",
       "      <td>https://www.lesoir.be/385268/article/2021-07-2...</td>\n",
       "      <td>https://www.lesoir.be/sites/default/files/dpis...</td>\n",
       "      <td>2021-07-22T06:09:53Z</td>\n",
       "      <td>Le premier avertissement reçu par les autorité...</td>\n",
       "      <td>None</td>\n",
       "      <td>Le Soir</td>\n",
       "    </tr>\n",
       "    <tr>\n",
       "      <th>6</th>\n",
       "      <td>Eric Bergerolle</td>\n",
       "      <td>Voiture inondée : pourquoi la remettre en état...</td>\n",
       "      <td>Sur les dizaines de milliers de voitures inond...</td>\n",
       "      <td>https://www.challenges.fr/automobile/actu-auto...</td>\n",
       "      <td>https://www.challenges.fr/assets/img/2021/07/1...</td>\n",
       "      <td>2021-07-21T12:15:12Z</td>\n",
       "      <td>Cinq jours après les inondations catastrophiqu...</td>\n",
       "      <td>None</td>\n",
       "      <td>Challenges</td>\n",
       "    </tr>\n",
       "    <tr>\n",
       "      <th>7</th>\n",
       "      <td>None</td>\n",
       "      <td>L’acteur flamand Mathias Vergels aide les sini...</td>\n",
       "      <td>Il se désole notamment de voir les habitants n...</td>\n",
       "      <td>https://soirmag.lesoir.be/387154/article/2021-...</td>\n",
       "      <td>https://soirmag.lesoir.be/sites/default/files/...</td>\n",
       "      <td>2021-08-01T07:54:39Z</td>\n",
       "      <td>Ce samedi, lacteur Mathias Vergels, très connu...</td>\n",
       "      <td>None</td>\n",
       "      <td>Le Soir</td>\n",
       "    </tr>\n",
       "    <tr>\n",
       "      <th>8</th>\n",
       "      <td>hommelibre</td>\n",
       "      <td>Crue extrême du Rhin : nous avons déjà vécu cela</td>\n",
       "      <td>J'ai entendu sur BFMTV que c'était le réchauff...</td>\n",
       "      <td>https://www.agoravox.fr/tribune-libre/article/...</td>\n",
       "      <td>https://www.agoravox.fr/local/cache-gd2/8fa0bf...</td>\n",
       "      <td>2021-07-19T09:04:33Z</td>\n",
       "      <td>J'ai entendu sur BFMTV que c’était le réchauff...</td>\n",
       "      <td>None</td>\n",
       "      <td>Agoravox.fr</td>\n",
       "    </tr>\n",
       "    <tr>\n",
       "      <th>9</th>\n",
       "      <td>None</td>\n",
       "      <td>Intempéries : des communes inondées en Alsace,...</td>\n",
       "      <td>Plusieurs communes de l'Est de la France ont é...</td>\n",
       "      <td>https://www.francetvinfo.fr/meteo/inondations/...</td>\n",
       "      <td>https://www.francetvinfo.fr/pictures/pT24bpXZn...</td>\n",
       "      <td>2021-07-16T05:38:48Z</td>\n",
       "      <td>De fortes pluies ont continué à tomber sur l'E...</td>\n",
       "      <td>None</td>\n",
       "      <td>Francetvinfo.fr</td>\n",
       "    </tr>\n",
       "    <tr>\n",
       "      <th>10</th>\n",
       "      <td>None</td>\n",
       "      <td>EN IMAGES. Inondations en Belgique : de violen...</td>\n",
       "      <td>La province de Namur, capitale de la Wallonie,...</td>\n",
       "      <td>https://www.francetvinfo.fr/meteo/inondations/...</td>\n",
       "      <td>https://www.francetvinfo.fr/pictures/M9BF-nXFT...</td>\n",
       "      <td>2021-07-25T15:50:15Z</td>\n",
       "      <td>La province de Namur, capitale de la Wallonie,...</td>\n",
       "      <td>None</td>\n",
       "      <td>Francetvinfo.fr</td>\n",
       "    </tr>\n",
       "    <tr>\n",
       "      <th>11</th>\n",
       "      <td>Sciences et Avenir avec AFP</td>\n",
       "      <td>Le bilan des intempéries en Europe grimpe à pr...</td>\n",
       "      <td>Le bilan des intempéries dévastatrices en Euro...</td>\n",
       "      <td>https://www.sciencesetavenir.fr/nature-environ...</td>\n",
       "      <td>https://www.sciencesetavenir.fr/assets/img/202...</td>\n",
       "      <td>2021-07-16T06:52:32Z</td>\n",
       "      <td>Il s'agit de la pire catastrophe naturelle qu'...</td>\n",
       "      <td>None</td>\n",
       "      <td>Sciences et Avenir</td>\n",
       "    </tr>\n",
       "    <tr>\n",
       "      <th>12</th>\n",
       "      <td>AFP</td>\n",
       "      <td>Le bilan de intempéries en Europe grimpe à prè...</td>\n",
       "      <td>Le bilan des intempéries dévastatrices en Euro...</td>\n",
       "      <td>https://www.sciencesetavenir.fr/nature-environ...</td>\n",
       "      <td>https://www.sciencesetavenir.fr/assets/afp/202...</td>\n",
       "      <td>2021-07-16T06:52:32Z</td>\n",
       "      <td>Le bilan des intempéries dévastatrices en Euro...</td>\n",
       "      <td>None</td>\n",
       "      <td>Sciences et Avenir</td>\n",
       "    </tr>\n",
       "    <tr>\n",
       "      <th>13</th>\n",
       "      <td>None</td>\n",
       "      <td>Intempéries: 25 alertes ont été émises avant l...</td>\n",
       "      <td>Le premier avertissement reçu par les autorité...</td>\n",
       "      <td>https://www.lesoir.be/385268/article/2021-07-2...</td>\n",
       "      <td>https://www.lesoir.be/sites/default/files/dpis...</td>\n",
       "      <td>2021-07-22T06:09:53Z</td>\n",
       "      <td>Le premier avertissement reçu par les autorité...</td>\n",
       "      <td>None</td>\n",
       "      <td>Le Soir</td>\n",
       "    </tr>\n",
       "    <tr>\n",
       "      <th>14</th>\n",
       "      <td>None</td>\n",
       "      <td>Inondations : Angela Merkel qualifie la dévast...</td>\n",
       "      <td>Angela Merkel a découvert dimanche la dévastat...</td>\n",
       "      <td>https://fr.euronews.com/2021/07/18/inondations...</td>\n",
       "      <td>https://static.euronews.com/articles/stories/0...</td>\n",
       "      <td>2021-07-18T16:39:15Z</td>\n",
       "      <td>Angela Merkel a découvert dimanche la dévastat...</td>\n",
       "      <td>None</td>\n",
       "      <td>Euronews</td>\n",
       "    </tr>\n",
       "    <tr>\n",
       "      <th>15</th>\n",
       "      <td>Olivier Peguy</td>\n",
       "      <td>Inondations en Europe : une centaine de morts ...</td>\n",
       "      <td>Les intempéries en Europe ont fait une centain...</td>\n",
       "      <td>https://fr.euronews.com/2021/07/16/inondations...</td>\n",
       "      <td>https://static.euronews.com/articles/stories/0...</td>\n",
       "      <td>2021-07-16T06:56:03Z</td>\n",
       "      <td>Les intempéries en Europe ont fait une centain...</td>\n",
       "      <td>None</td>\n",
       "      <td>Euronews</td>\n",
       "    </tr>\n",
       "    <tr>\n",
       "      <th>16</th>\n",
       "      <td>None</td>\n",
       "      <td>Allemagne : le coût matériel et humain des ino...</td>\n",
       "      <td>Après une catastrophe inédite notamment en All...</td>\n",
       "      <td>https://www.latribune.fr/economie/union-europe...</td>\n",
       "      <td>https://static.latribune.fr/full_width/1735657...</td>\n",
       "      <td>2021-07-17T09:34:00Z</td>\n",
       "      <td>153 morts jusqu'ici constatés, un bilan qui ri...</td>\n",
       "      <td>None</td>\n",
       "      <td>La Tribune.fr</td>\n",
       "    </tr>\n",
       "    <tr>\n",
       "      <th>17</th>\n",
       "      <td>None</td>\n",
       "      <td>Pluies, inondations, tempêtes: les intempéries...</td>\n",
       "      <td>En 20 ans, l'Europe a essuyé de multiples inte...</td>\n",
       "      <td>https://www.bfmtv.com/societe/pluies-inondatio...</td>\n",
       "      <td>https://images.bfmtv.com/n385o_pL3FJSCTMJdSzJJ...</td>\n",
       "      <td>2021-07-16T04:41:59Z</td>\n",
       "      <td>En 20 ans, l'Europe a essuyé de multiples inte...</td>\n",
       "      <td>None</td>\n",
       "      <td>BFMTV</td>\n",
       "    </tr>\n",
       "    <tr>\n",
       "      <th>18</th>\n",
       "      <td>Le Monde avec AFP</td>\n",
       "      <td>Inondations en Allemagne : Angela Merkel défen...</td>\n",
       "      <td>Le bilan de la catastrophe s’est encore alourd...</td>\n",
       "      <td>https://www.lemonde.fr/international/article/2...</td>\n",
       "      <td>https://img.lemde.fr/2021/07/20/456/0/5468/273...</td>\n",
       "      <td>2021-07-20T15:49:27Z</td>\n",
       "      <td>« Ce sont des inondations qui dépassent limagi...</td>\n",
       "      <td>le-monde</td>\n",
       "      <td>Le Monde</td>\n",
       "    </tr>\n",
       "    <tr>\n",
       "      <th>19</th>\n",
       "      <td>Le Monde avec AFP</td>\n",
       "      <td>En Allemagne, Berlin décide de premières aides...</td>\n",
       "      <td>Dans un projet devant être adopté en conseil d...</td>\n",
       "      <td>https://www.lemonde.fr/planete/article/2021/07...</td>\n",
       "      <td>https://img.lemde.fr/2021/07/20/481/0/4835/241...</td>\n",
       "      <td>2021-07-21T03:03:34Z</td>\n",
       "      <td>Dans la ville thermale ravagée par les inondat...</td>\n",
       "      <td>le-monde</td>\n",
       "      <td>Le Monde</td>\n",
       "    </tr>\n",
       "    <tr>\n",
       "      <th>20</th>\n",
       "      <td>La Rédaction</td>\n",
       "      <td>Notre photographe raconte son vécu après les i...</td>\n",
       "      <td>Sur le terrain depuis le début des inondations...</td>\n",
       "      <td>https://www.lalibre.be/belgique/societe/2021/0...</td>\n",
       "      <td>https://www.lalibre.be/resizer/szvkEToJHHvvAdZ...</td>\n",
       "      <td>2021-07-20T06:19:45Z</td>\n",
       "      <td>Verviers, Tilff, Pepinster... Notre photograph...</td>\n",
       "      <td>None</td>\n",
       "      <td>Lalibre.be</td>\n",
       "    </tr>\n",
       "    <tr>\n",
       "      <th>21</th>\n",
       "      <td>None</td>\n",
       "      <td>Inondation en Belgique : la vie reprend pénibl...</td>\n",
       "      <td>Les inondations en Belgique ont fait plus d'un...</td>\n",
       "      <td>https://www.francetvinfo.fr/meteo/inondations/...</td>\n",
       "      <td>https://www.francetvinfo.fr/pictures/i6zrL6t1b...</td>\n",
       "      <td>2021-07-19T20:44:55Z</td>\n",
       "      <td>Les inondations en Belgique ont fait plus d'un...</td>\n",
       "      <td>None</td>\n",
       "      <td>Francetvinfo.fr</td>\n",
       "    </tr>\n",
       "    <tr>\n",
       "      <th>22</th>\n",
       "      <td>La Libre Eco avec Belga</td>\n",
       "      <td>Bpost va transférer le courrier gratuitement à...</td>\n",
       "      <td>Les lettres et colis des personnes domiciliées...</td>\n",
       "      <td>https://www.lalibre.be/economie/conjoncture/20...</td>\n",
       "      <td>https://www.lalibre.be/resizer/V5p7voB_7ux6fZT...</td>\n",
       "      <td>2021-07-20T08:35:27Z</td>\n",
       "      <td>Les personnes victimes des inondations meurtri...</td>\n",
       "      <td>None</td>\n",
       "      <td>Lalibre.be</td>\n",
       "    </tr>\n",
       "    <tr>\n",
       "      <th>23</th>\n",
       "      <td>AFP</td>\n",
       "      <td>Inondations en Allemagne: des victimes et disp...</td>\n",
       "      <td>INTEMPÉRIES - Plusieurs personnes sont décédée...</td>\n",
       "      <td>https://www.huffingtonpost.fr/entry/inondation...</td>\n",
       "      <td>https://img.huffingtonpost.com/asset/60f14a9c4...</td>\n",
       "      <td>2021-07-16T09:06:25Z</td>\n",
       "      <td>INTEMPÉRIES - Plusieurs personnes sont décédée...</td>\n",
       "      <td>None</td>\n",
       "      <td>Le HuffPost</td>\n",
       "    </tr>\n",
       "    <tr>\n",
       "      <th>24</th>\n",
       "      <td>Le Figaro avec AFP</td>\n",
       "      <td>Inondations : 200 morts en Europe, dont 169 en...</td>\n",
       "      <td>Pays le plus endeuillé du continent, l'Allemag...</td>\n",
       "      <td>https://www.lefigaro.fr/international/inondati...</td>\n",
       "      <td>https://i.f1g.fr/media/cms/704x396_cropupscale...</td>\n",
       "      <td>2021-07-20T14:36:29Z</td>\n",
       "      <td>Pays le plus endeuillé du continent, l'Allemag...</td>\n",
       "      <td>None</td>\n",
       "      <td>Lefigaro.fr</td>\n",
       "    </tr>\n",
       "    <tr>\n",
       "      <th>25</th>\n",
       "      <td>The Economist</td>\n",
       "      <td>Catastrophes climatiques en série: vers le poi...</td>\n",
       "      <td>EDITO - Inondations provoquées par des pluies ...</td>\n",
       "      <td>https://www.challenges.fr/entreprise/environne...</td>\n",
       "      <td>https://www.challenges.fr/assets/img/2021/07/2...</td>\n",
       "      <td>2021-07-26T09:55:03Z</td>\n",
       "      <td>Avec la série de catastrophes climatiques que ...</td>\n",
       "      <td>None</td>\n",
       "      <td>Challenges</td>\n",
       "    </tr>\n",
       "    <tr>\n",
       "      <th>26</th>\n",
       "      <td>Rue89 Strasbourg - l'actualité de Strasbourg e...</td>\n",
       "      <td>Changement climatique : l'Alsace menacée de gr...</td>\n",
       "      <td>De nombreux scientifiques estiment que le risq...</td>\n",
       "      <td>https://www.rue89strasbourg.com/changement-cli...</td>\n",
       "      <td>https://www.rue89strasbourg.com/wp-content/upl...</td>\n",
       "      <td>2021-07-26T08:20:12Z</td>\n",
       "      <td>De nombreux scientifiques estiment que le risq...</td>\n",
       "      <td>None</td>\n",
       "      <td>Rue89strasbourg.com</td>\n",
       "    </tr>\n",
       "    <tr>\n",
       "      <th>27</th>\n",
       "      <td>no-reply@20minutes.fr (No Reply)</td>\n",
       "      <td>Inondations en Allemagne : Merkel appelle à ac...</td>\n",
       "      <td>La chancelière allemande s’est rendue ce diman...</td>\n",
       "      <td>https://www.20minutes.fr/monde/3086127-2021071...</td>\n",
       "      <td>https://img.20mn.fr/8tD3GYLnSvOmxzdiOK8s6yk/64...</td>\n",
       "      <td>2021-07-18T15:58:25Z</td>\n",
       "      <td>Angela Merkel a découvert dimanche la dévastat...</td>\n",
       "      <td>None</td>\n",
       "      <td>20 Minutes</td>\n",
       "    </tr>\n",
       "    <tr>\n",
       "      <th>28</th>\n",
       "      <td>Maxime Le Roux avec AFP</td>\n",
       "      <td>Inondations en Allemagne: le climat au centre ...</td>\n",
       "      <td>ALLEMAGNE - Après 16 ans à la tête du pays, An...</td>\n",
       "      <td>https://www.huffingtonpost.fr/entry/inondation...</td>\n",
       "      <td>https://img.huffingtonpost.com/asset/60f157cf4...</td>\n",
       "      <td>2021-07-16T10:51:41Z</td>\n",
       "      <td>ALLEMAGNE - Après 16 ans à la tête du pays, An...</td>\n",
       "      <td>None</td>\n",
       "      <td>Le HuffPost</td>\n",
       "    </tr>\n",
       "    <tr>\n",
       "      <th>29</th>\n",
       "      <td>Charles Van Dievort</td>\n",
       "      <td>Victime des inondations à Londres, Brian May d...</td>\n",
       "      <td>Une partie de ses souvenirs d'enfance et de sa...</td>\n",
       "      <td>https://www.lalibre.be/lifestyle/people/2021/0...</td>\n",
       "      <td>https://www.lalibre.be/resizer/0yimeX1JCput-Sc...</td>\n",
       "      <td>2021-07-26T12:25:00Z</td>\n",
       "      <td>Tandis que le Canada est écrasé par la chaleur...</td>\n",
       "      <td>None</td>\n",
       "      <td>Lalibre.be</td>\n",
       "    </tr>\n",
       "  </tbody>\n",
       "</table>\n",
       "</div>"
      ],
      "text/plain": [
       "                                               author  \\\n",
       "0                                                 AFP   \n",
       "1                                Le HuffPost avec AFP   \n",
       "2                                                None   \n",
       "3                                                None   \n",
       "4                                                None   \n",
       "5                                                None   \n",
       "6                                     Eric Bergerolle   \n",
       "7                                                None   \n",
       "8                                          hommelibre   \n",
       "9                                                None   \n",
       "10                                               None   \n",
       "11                        Sciences et Avenir avec AFP   \n",
       "12                                                AFP   \n",
       "13                                               None   \n",
       "14                                               None   \n",
       "15                                      Olivier Peguy   \n",
       "16                                               None   \n",
       "17                                               None   \n",
       "18                                  Le Monde avec AFP   \n",
       "19                                  Le Monde avec AFP   \n",
       "20                                       La Rédaction   \n",
       "21                                               None   \n",
       "22                            La Libre Eco avec Belga   \n",
       "23                                                AFP   \n",
       "24                                 Le Figaro avec AFP   \n",
       "25                                      The Economist   \n",
       "26  Rue89 Strasbourg - l'actualité de Strasbourg e...   \n",
       "27                   no-reply@20minutes.fr (No Reply)   \n",
       "28                            Maxime Le Roux avec AFP   \n",
       "29                                Charles Van Dievort   \n",
       "\n",
       "                                                title  \\\n",
       "0   Crue et pluie-inondation: Météo France place 1...   \n",
       "1   Inondations en Allemagne: les dégâts à Schuld ...   \n",
       "2   Les inondations en Allemagne sont les plus meu...   \n",
       "3   Les inondations en Allemagne sont déjà les plu...   \n",
       "4   Incendies, crues, chaleur : un mois de conditi...   \n",
       "5   25 alertes ont été émises avant les inondation...   \n",
       "6   Voiture inondée : pourquoi la remettre en état...   \n",
       "7   L’acteur flamand Mathias Vergels aide les sini...   \n",
       "8    Crue extrême du Rhin : nous avons déjà vécu cela   \n",
       "9   Intempéries : des communes inondées en Alsace,...   \n",
       "10  EN IMAGES. Inondations en Belgique : de violen...   \n",
       "11  Le bilan des intempéries en Europe grimpe à pr...   \n",
       "12  Le bilan de intempéries en Europe grimpe à prè...   \n",
       "13  Intempéries: 25 alertes ont été émises avant l...   \n",
       "14  Inondations : Angela Merkel qualifie la dévast...   \n",
       "15  Inondations en Europe : une centaine de morts ...   \n",
       "16  Allemagne : le coût matériel et humain des ino...   \n",
       "17  Pluies, inondations, tempêtes: les intempéries...   \n",
       "18  Inondations en Allemagne : Angela Merkel défen...   \n",
       "19  En Allemagne, Berlin décide de premières aides...   \n",
       "20  Notre photographe raconte son vécu après les i...   \n",
       "21  Inondation en Belgique : la vie reprend pénibl...   \n",
       "22  Bpost va transférer le courrier gratuitement à...   \n",
       "23  Inondations en Allemagne: des victimes et disp...   \n",
       "24  Inondations : 200 morts en Europe, dont 169 en...   \n",
       "25  Catastrophes climatiques en série: vers le poi...   \n",
       "26  Changement climatique : l'Alsace menacée de gr...   \n",
       "27  Inondations en Allemagne : Merkel appelle à ac...   \n",
       "28  Inondations en Allemagne: le climat au centre ...   \n",
       "29  Victime des inondations à Londres, Brian May d...   \n",
       "\n",
       "                                          description  \\\n",
       "0   INTEMPÉRIES - Les pluies abondantes sur l’est ...   \n",
       "1   INONDATIONS - En deux jours seulement, les ino...   \n",
       "2   Les inondations en Rhénanie-du-Nord-Westphalie...   \n",
       "3   Les inondations en Rhénanie-du-Nord-Westphalie...   \n",
       "4   Les changements climatiques ont provoqué en l’...   \n",
       "5   Le premier avertissement reçu par les autorité...   \n",
       "6   Sur les dizaines de milliers de voitures inond...   \n",
       "7   Il se désole notamment de voir les habitants n...   \n",
       "8   J'ai entendu sur BFMTV que c'était le réchauff...   \n",
       "9   Plusieurs communes de l'Est de la France ont é...   \n",
       "10  La province de Namur, capitale de la Wallonie,...   \n",
       "11  Le bilan des intempéries dévastatrices en Euro...   \n",
       "12  Le bilan des intempéries dévastatrices en Euro...   \n",
       "13  Le premier avertissement reçu par les autorité...   \n",
       "14  Angela Merkel a découvert dimanche la dévastat...   \n",
       "15  Les intempéries en Europe ont fait une centain...   \n",
       "16  Après une catastrophe inédite notamment en All...   \n",
       "17  En 20 ans, l'Europe a essuyé de multiples inte...   \n",
       "18  Le bilan de la catastrophe s’est encore alourd...   \n",
       "19  Dans un projet devant être adopté en conseil d...   \n",
       "20  Sur le terrain depuis le début des inondations...   \n",
       "21  Les inondations en Belgique ont fait plus d'un...   \n",
       "22  Les lettres et colis des personnes domiciliées...   \n",
       "23  INTEMPÉRIES - Plusieurs personnes sont décédée...   \n",
       "24  Pays le plus endeuillé du continent, l'Allemag...   \n",
       "25  EDITO - Inondations provoquées par des pluies ...   \n",
       "26  De nombreux scientifiques estiment que le risq...   \n",
       "27  La chancelière allemande s’est rendue ce diman...   \n",
       "28  ALLEMAGNE - Après 16 ans à la tête du pays, An...   \n",
       "29  Une partie de ses souvenirs d'enfance et de sa...   \n",
       "\n",
       "                                                  url  \\\n",
       "0   https://www.huffingtonpost.fr/entry/crue-et-pl...   \n",
       "1   https://www.huffingtonpost.fr/entry/allemagne-...   \n",
       "2   https://www.courrierinternational.com/article/...   \n",
       "3   https://www.courrierinternational.com/article/...   \n",
       "4   https://www.courrierinternational.com/article/...   \n",
       "5   https://www.lesoir.be/385268/article/2021-07-2...   \n",
       "6   https://www.challenges.fr/automobile/actu-auto...   \n",
       "7   https://soirmag.lesoir.be/387154/article/2021-...   \n",
       "8   https://www.agoravox.fr/tribune-libre/article/...   \n",
       "9   https://www.francetvinfo.fr/meteo/inondations/...   \n",
       "10  https://www.francetvinfo.fr/meteo/inondations/...   \n",
       "11  https://www.sciencesetavenir.fr/nature-environ...   \n",
       "12  https://www.sciencesetavenir.fr/nature-environ...   \n",
       "13  https://www.lesoir.be/385268/article/2021-07-2...   \n",
       "14  https://fr.euronews.com/2021/07/18/inondations...   \n",
       "15  https://fr.euronews.com/2021/07/16/inondations...   \n",
       "16  https://www.latribune.fr/economie/union-europe...   \n",
       "17  https://www.bfmtv.com/societe/pluies-inondatio...   \n",
       "18  https://www.lemonde.fr/international/article/2...   \n",
       "19  https://www.lemonde.fr/planete/article/2021/07...   \n",
       "20  https://www.lalibre.be/belgique/societe/2021/0...   \n",
       "21  https://www.francetvinfo.fr/meteo/inondations/...   \n",
       "22  https://www.lalibre.be/economie/conjoncture/20...   \n",
       "23  https://www.huffingtonpost.fr/entry/inondation...   \n",
       "24  https://www.lefigaro.fr/international/inondati...   \n",
       "25  https://www.challenges.fr/entreprise/environne...   \n",
       "26  https://www.rue89strasbourg.com/changement-cli...   \n",
       "27  https://www.20minutes.fr/monde/3086127-2021071...   \n",
       "28  https://www.huffingtonpost.fr/entry/inondation...   \n",
       "29  https://www.lalibre.be/lifestyle/people/2021/0...   \n",
       "\n",
       "                                           urlToImage           publishedAt  \\\n",
       "0   https://img.huffingtonpost.com/asset/60f11f833...  2021-07-16T05:57:29Z   \n",
       "1   https://img.huffingtonpost.com/asset/60f18c7e4...  2021-07-16T14:51:10Z   \n",
       "2   https://www.courrierinternational.com/sites/ci...  2021-07-16T15:13:31Z   \n",
       "3   https://www.courrierinternational.com/sites/ci...  2021-07-16T15:13:31Z   \n",
       "4   https://www.courrierinternational.com/sites/ci...  2021-08-05T16:15:57Z   \n",
       "5   https://www.lesoir.be/sites/default/files/dpis...  2021-07-22T06:09:53Z   \n",
       "6   https://www.challenges.fr/assets/img/2021/07/1...  2021-07-21T12:15:12Z   \n",
       "7   https://soirmag.lesoir.be/sites/default/files/...  2021-08-01T07:54:39Z   \n",
       "8   https://www.agoravox.fr/local/cache-gd2/8fa0bf...  2021-07-19T09:04:33Z   \n",
       "9   https://www.francetvinfo.fr/pictures/pT24bpXZn...  2021-07-16T05:38:48Z   \n",
       "10  https://www.francetvinfo.fr/pictures/M9BF-nXFT...  2021-07-25T15:50:15Z   \n",
       "11  https://www.sciencesetavenir.fr/assets/img/202...  2021-07-16T06:52:32Z   \n",
       "12  https://www.sciencesetavenir.fr/assets/afp/202...  2021-07-16T06:52:32Z   \n",
       "13  https://www.lesoir.be/sites/default/files/dpis...  2021-07-22T06:09:53Z   \n",
       "14  https://static.euronews.com/articles/stories/0...  2021-07-18T16:39:15Z   \n",
       "15  https://static.euronews.com/articles/stories/0...  2021-07-16T06:56:03Z   \n",
       "16  https://static.latribune.fr/full_width/1735657...  2021-07-17T09:34:00Z   \n",
       "17  https://images.bfmtv.com/n385o_pL3FJSCTMJdSzJJ...  2021-07-16T04:41:59Z   \n",
       "18  https://img.lemde.fr/2021/07/20/456/0/5468/273...  2021-07-20T15:49:27Z   \n",
       "19  https://img.lemde.fr/2021/07/20/481/0/4835/241...  2021-07-21T03:03:34Z   \n",
       "20  https://www.lalibre.be/resizer/szvkEToJHHvvAdZ...  2021-07-20T06:19:45Z   \n",
       "21  https://www.francetvinfo.fr/pictures/i6zrL6t1b...  2021-07-19T20:44:55Z   \n",
       "22  https://www.lalibre.be/resizer/V5p7voB_7ux6fZT...  2021-07-20T08:35:27Z   \n",
       "23  https://img.huffingtonpost.com/asset/60f14a9c4...  2021-07-16T09:06:25Z   \n",
       "24  https://i.f1g.fr/media/cms/704x396_cropupscale...  2021-07-20T14:36:29Z   \n",
       "25  https://www.challenges.fr/assets/img/2021/07/2...  2021-07-26T09:55:03Z   \n",
       "26  https://www.rue89strasbourg.com/wp-content/upl...  2021-07-26T08:20:12Z   \n",
       "27  https://img.20mn.fr/8tD3GYLnSvOmxzdiOK8s6yk/64...  2021-07-18T15:58:25Z   \n",
       "28  https://img.huffingtonpost.com/asset/60f157cf4...  2021-07-16T10:51:41Z   \n",
       "29  https://www.lalibre.be/resizer/0yimeX1JCput-Sc...  2021-07-26T12:25:00Z   \n",
       "\n",
       "                                              content source.id  \\\n",
       "0   INTEMPÉRIES - Les pluies abondantes sur l’est ...      None   \n",
       "1   INONDATIONS - En deux jours seulement, les ino...      None   \n",
       "2   Les inondations en Rhénanie-du-Nord-Westphalie...      None   \n",
       "3   Les inondations en Rhénanie-du-Nord-Westphalie...      None   \n",
       "4   Les changements climatiques ont provoqué en le...      None   \n",
       "5   Le premier avertissement reçu par les autorité...      None   \n",
       "6   Cinq jours après les inondations catastrophiqu...      None   \n",
       "7   Ce samedi, lacteur Mathias Vergels, très connu...      None   \n",
       "8   J'ai entendu sur BFMTV que c’était le réchauff...      None   \n",
       "9   De fortes pluies ont continué à tomber sur l'E...      None   \n",
       "10  La province de Namur, capitale de la Wallonie,...      None   \n",
       "11  Il s'agit de la pire catastrophe naturelle qu'...      None   \n",
       "12  Le bilan des intempéries dévastatrices en Euro...      None   \n",
       "13  Le premier avertissement reçu par les autorité...      None   \n",
       "14  Angela Merkel a découvert dimanche la dévastat...      None   \n",
       "15  Les intempéries en Europe ont fait une centain...      None   \n",
       "16  153 morts jusqu'ici constatés, un bilan qui ri...      None   \n",
       "17  En 20 ans, l'Europe a essuyé de multiples inte...      None   \n",
       "18  « Ce sont des inondations qui dépassent limagi...  le-monde   \n",
       "19  Dans la ville thermale ravagée par les inondat...  le-monde   \n",
       "20  Verviers, Tilff, Pepinster... Notre photograph...      None   \n",
       "21  Les inondations en Belgique ont fait plus d'un...      None   \n",
       "22  Les personnes victimes des inondations meurtri...      None   \n",
       "23  INTEMPÉRIES - Plusieurs personnes sont décédée...      None   \n",
       "24  Pays le plus endeuillé du continent, l'Allemag...      None   \n",
       "25  Avec la série de catastrophes climatiques que ...      None   \n",
       "26  De nombreux scientifiques estiment que le risq...      None   \n",
       "27  Angela Merkel a découvert dimanche la dévastat...      None   \n",
       "28  ALLEMAGNE - Après 16 ans à la tête du pays, An...      None   \n",
       "29  Tandis que le Canada est écrasé par la chaleur...      None   \n",
       "\n",
       "               source.name  \n",
       "0              Le HuffPost  \n",
       "1              Le HuffPost  \n",
       "2   Courrier International  \n",
       "3   Courrier International  \n",
       "4   Courrier International  \n",
       "5                  Le Soir  \n",
       "6               Challenges  \n",
       "7                  Le Soir  \n",
       "8              Agoravox.fr  \n",
       "9          Francetvinfo.fr  \n",
       "10         Francetvinfo.fr  \n",
       "11      Sciences et Avenir  \n",
       "12      Sciences et Avenir  \n",
       "13                 Le Soir  \n",
       "14                Euronews  \n",
       "15                Euronews  \n",
       "16           La Tribune.fr  \n",
       "17                   BFMTV  \n",
       "18                Le Monde  \n",
       "19                Le Monde  \n",
       "20              Lalibre.be  \n",
       "21         Francetvinfo.fr  \n",
       "22              Lalibre.be  \n",
       "23             Le HuffPost  \n",
       "24             Lefigaro.fr  \n",
       "25              Challenges  \n",
       "26     Rue89strasbourg.com  \n",
       "27              20 Minutes  \n",
       "28             Le HuffPost  \n",
       "29              Lalibre.be  "
      ]
     },
     "execution_count": 31,
     "metadata": {},
     "output_type": "execute_result"
    }
   ],
   "source": [
    "df_fr = pd.json_normalize(response_json_fr, 'articles')\n",
    "df_fr"
   ]
  },
  {
   "cell_type": "markdown",
   "metadata": {},
   "source": [
    "And eventually a dataframe containing both French and English articles :"
   ]
  },
  {
   "cell_type": "code",
   "execution_count": 32,
   "metadata": {},
   "outputs": [
    {
     "data": {
      "text/html": [
       "<div>\n",
       "<style scoped>\n",
       "    .dataframe tbody tr th:only-of-type {\n",
       "        vertical-align: middle;\n",
       "    }\n",
       "\n",
       "    .dataframe tbody tr th {\n",
       "        vertical-align: top;\n",
       "    }\n",
       "\n",
       "    .dataframe thead th {\n",
       "        text-align: right;\n",
       "    }\n",
       "</style>\n",
       "<table border=\"1\" class=\"dataframe\">\n",
       "  <thead>\n",
       "    <tr style=\"text-align: right;\">\n",
       "      <th></th>\n",
       "      <th>author</th>\n",
       "      <th>title</th>\n",
       "      <th>description</th>\n",
       "      <th>url</th>\n",
       "      <th>urlToImage</th>\n",
       "      <th>publishedAt</th>\n",
       "      <th>content</th>\n",
       "      <th>source.id</th>\n",
       "      <th>source.name</th>\n",
       "    </tr>\n",
       "  </thead>\n",
       "  <tbody>\n",
       "    <tr>\n",
       "      <th>0</th>\n",
       "      <td>AFP</td>\n",
       "      <td>Crue et pluie-inondation: Météo France place 1...</td>\n",
       "      <td>INTEMPÉRIES - Les pluies abondantes sur l’est ...</td>\n",
       "      <td>https://www.huffingtonpost.fr/entry/crue-et-pl...</td>\n",
       "      <td>https://img.huffingtonpost.com/asset/60f11f833...</td>\n",
       "      <td>2021-07-16T05:57:29Z</td>\n",
       "      <td>INTEMPÉRIES - Les pluies abondantes sur l’est ...</td>\n",
       "      <td>None</td>\n",
       "      <td>Le HuffPost</td>\n",
       "    </tr>\n",
       "    <tr>\n",
       "      <th>1</th>\n",
       "      <td>Le HuffPost avec AFP</td>\n",
       "      <td>Inondations en Allemagne: les dégâts à Schuld ...</td>\n",
       "      <td>INONDATIONS - En deux jours seulement, les ino...</td>\n",
       "      <td>https://www.huffingtonpost.fr/entry/allemagne-...</td>\n",
       "      <td>https://img.huffingtonpost.com/asset/60f18c7e4...</td>\n",
       "      <td>2021-07-16T14:51:10Z</td>\n",
       "      <td>INONDATIONS - En deux jours seulement, les ino...</td>\n",
       "      <td>None</td>\n",
       "      <td>Le HuffPost</td>\n",
       "    </tr>\n",
       "    <tr>\n",
       "      <th>2</th>\n",
       "      <td>None</td>\n",
       "      <td>Les inondations en Allemagne sont les plus meu...</td>\n",
       "      <td>Les inondations en Rhénanie-du-Nord-Westphalie...</td>\n",
       "      <td>https://www.courrierinternational.com/article/...</td>\n",
       "      <td>https://www.courrierinternational.com/sites/ci...</td>\n",
       "      <td>2021-07-16T15:13:31Z</td>\n",
       "      <td>Les inondations en Rhénanie-du-Nord-Westphalie...</td>\n",
       "      <td>None</td>\n",
       "      <td>Courrier International</td>\n",
       "    </tr>\n",
       "    <tr>\n",
       "      <th>3</th>\n",
       "      <td>None</td>\n",
       "      <td>Les inondations en Allemagne sont déjà les plu...</td>\n",
       "      <td>Les inondations en Rhénanie-du-Nord-Westphalie...</td>\n",
       "      <td>https://www.courrierinternational.com/article/...</td>\n",
       "      <td>https://www.courrierinternational.com/sites/ci...</td>\n",
       "      <td>2021-07-16T15:13:31Z</td>\n",
       "      <td>Les inondations en Rhénanie-du-Nord-Westphalie...</td>\n",
       "      <td>None</td>\n",
       "      <td>Courrier International</td>\n",
       "    </tr>\n",
       "    <tr>\n",
       "      <th>4</th>\n",
       "      <td>None</td>\n",
       "      <td>Incendies, crues, chaleur : un mois de conditi...</td>\n",
       "      <td>Les changements climatiques ont provoqué en l’...</td>\n",
       "      <td>https://www.courrierinternational.com/article/...</td>\n",
       "      <td>https://www.courrierinternational.com/sites/ci...</td>\n",
       "      <td>2021-08-05T16:15:57Z</td>\n",
       "      <td>Les changements climatiques ont provoqué en le...</td>\n",
       "      <td>None</td>\n",
       "      <td>Courrier International</td>\n",
       "    </tr>\n",
       "    <tr>\n",
       "      <th>...</th>\n",
       "      <td>...</td>\n",
       "      <td>...</td>\n",
       "      <td>...</td>\n",
       "      <td>...</td>\n",
       "      <td>...</td>\n",
       "      <td>...</td>\n",
       "      <td>...</td>\n",
       "      <td>...</td>\n",
       "      <td>...</td>\n",
       "    </tr>\n",
       "    <tr>\n",
       "      <th>95</th>\n",
       "      <td>None</td>\n",
       "      <td>New floods hit Belgium amid stormy weather - A...</td>\n",
       "      <td>&lt;ol&gt;&lt;li&gt;New floods hit Belgium amid stormy wea...</td>\n",
       "      <td>https://apnews.com/article/europe-floods-storm...</td>\n",
       "      <td>https://storage.googleapis.com/afs-prod/media/...</td>\n",
       "      <td>2021-07-24T20:19:37Z</td>\n",
       "      <td>BRUSSELS (AP) New floods have again swamped ar...</td>\n",
       "      <td>associated-press</td>\n",
       "      <td>Associated Press</td>\n",
       "    </tr>\n",
       "    <tr>\n",
       "      <th>96</th>\n",
       "      <td>Bojan Pancevski</td>\n",
       "      <td>Flooding Prompts Mass Evacuations in Germany, ...</td>\n",
       "      <td>&lt;ol&gt;&lt;li&gt;Flooding Prompts Mass Evacuations in G...</td>\n",
       "      <td>https://www.wsj.com/articles/flooding-prompts-...</td>\n",
       "      <td>https://images.wsj.net/im-371120/social</td>\n",
       "      <td>2021-07-17T12:43:00Z</td>\n",
       "      <td>BERLINGermany and neighboring countries were e...</td>\n",
       "      <td>the-wall-street-journal</td>\n",
       "      <td>The Wall Street Journal</td>\n",
       "    </tr>\n",
       "    <tr>\n",
       "      <th>97</th>\n",
       "      <td>Weiyi Cai, Taylor Johnston, Eleanor Lutz, Tim ...</td>\n",
       "      <td>Maps Showing the Extent of the Flooding in Eur...</td>\n",
       "      <td>&lt;ol&gt;&lt;li&gt;Maps Showing the Extent of the Floodin...</td>\n",
       "      <td>https://www.nytimes.com/interactive/2021/07/17...</td>\n",
       "      <td>https://static01.nyt.com/images/2021/07/17/us/...</td>\n",
       "      <td>2021-07-17T05:11:42Z</td>\n",
       "      <td>Deadly floods swept through parts of Europe th...</td>\n",
       "      <td>None</td>\n",
       "      <td>New York Times</td>\n",
       "    </tr>\n",
       "    <tr>\n",
       "      <th>98</th>\n",
       "      <td>Geir Moulson</td>\n",
       "      <td>Germany defends preparation for floods, consid...</td>\n",
       "      <td>&lt;ol&gt;&lt;li&gt;Germany defends preparation for floods...</td>\n",
       "      <td>https://apnews.com/article/europe-germany-floo...</td>\n",
       "      <td>https://storage.googleapis.com/afs-prod/media/...</td>\n",
       "      <td>2021-07-19T10:01:34Z</td>\n",
       "      <td>BERLIN (AP) German officials are defending the...</td>\n",
       "      <td>associated-press</td>\n",
       "      <td>Associated Press</td>\n",
       "    </tr>\n",
       "    <tr>\n",
       "      <th>99</th>\n",
       "      <td>None</td>\n",
       "      <td>AP PHOTOS: Swollen rivers smash through parts ...</td>\n",
       "      <td>&lt;ol&gt;&lt;li&gt;AP PHOTOS: Swollen rivers smash throug...</td>\n",
       "      <td>https://apnews.com/article/europe-business-gov...</td>\n",
       "      <td>https://storage.googleapis.com/afs-prod/media/...</td>\n",
       "      <td>2021-07-17T08:16:30Z</td>\n",
       "      <td>SCHULD, Germany (AP) Torrential rain turned no...</td>\n",
       "      <td>associated-press</td>\n",
       "      <td>Associated Press</td>\n",
       "    </tr>\n",
       "  </tbody>\n",
       "</table>\n",
       "<p>130 rows × 9 columns</p>\n",
       "</div>"
      ],
      "text/plain": [
       "                                               author  \\\n",
       "0                                                 AFP   \n",
       "1                                Le HuffPost avec AFP   \n",
       "2                                                None   \n",
       "3                                                None   \n",
       "4                                                None   \n",
       "..                                                ...   \n",
       "95                                               None   \n",
       "96                                    Bojan Pancevski   \n",
       "97  Weiyi Cai, Taylor Johnston, Eleanor Lutz, Tim ...   \n",
       "98                                       Geir Moulson   \n",
       "99                                               None   \n",
       "\n",
       "                                                title  \\\n",
       "0   Crue et pluie-inondation: Météo France place 1...   \n",
       "1   Inondations en Allemagne: les dégâts à Schuld ...   \n",
       "2   Les inondations en Allemagne sont les plus meu...   \n",
       "3   Les inondations en Allemagne sont déjà les plu...   \n",
       "4   Incendies, crues, chaleur : un mois de conditi...   \n",
       "..                                                ...   \n",
       "95  New floods hit Belgium amid stormy weather - A...   \n",
       "96  Flooding Prompts Mass Evacuations in Germany, ...   \n",
       "97  Maps Showing the Extent of the Flooding in Eur...   \n",
       "98  Germany defends preparation for floods, consid...   \n",
       "99  AP PHOTOS: Swollen rivers smash through parts ...   \n",
       "\n",
       "                                          description  \\\n",
       "0   INTEMPÉRIES - Les pluies abondantes sur l’est ...   \n",
       "1   INONDATIONS - En deux jours seulement, les ino...   \n",
       "2   Les inondations en Rhénanie-du-Nord-Westphalie...   \n",
       "3   Les inondations en Rhénanie-du-Nord-Westphalie...   \n",
       "4   Les changements climatiques ont provoqué en l’...   \n",
       "..                                                ...   \n",
       "95  <ol><li>New floods hit Belgium amid stormy wea...   \n",
       "96  <ol><li>Flooding Prompts Mass Evacuations in G...   \n",
       "97  <ol><li>Maps Showing the Extent of the Floodin...   \n",
       "98  <ol><li>Germany defends preparation for floods...   \n",
       "99  <ol><li>AP PHOTOS: Swollen rivers smash throug...   \n",
       "\n",
       "                                                  url  \\\n",
       "0   https://www.huffingtonpost.fr/entry/crue-et-pl...   \n",
       "1   https://www.huffingtonpost.fr/entry/allemagne-...   \n",
       "2   https://www.courrierinternational.com/article/...   \n",
       "3   https://www.courrierinternational.com/article/...   \n",
       "4   https://www.courrierinternational.com/article/...   \n",
       "..                                                ...   \n",
       "95  https://apnews.com/article/europe-floods-storm...   \n",
       "96  https://www.wsj.com/articles/flooding-prompts-...   \n",
       "97  https://www.nytimes.com/interactive/2021/07/17...   \n",
       "98  https://apnews.com/article/europe-germany-floo...   \n",
       "99  https://apnews.com/article/europe-business-gov...   \n",
       "\n",
       "                                           urlToImage           publishedAt  \\\n",
       "0   https://img.huffingtonpost.com/asset/60f11f833...  2021-07-16T05:57:29Z   \n",
       "1   https://img.huffingtonpost.com/asset/60f18c7e4...  2021-07-16T14:51:10Z   \n",
       "2   https://www.courrierinternational.com/sites/ci...  2021-07-16T15:13:31Z   \n",
       "3   https://www.courrierinternational.com/sites/ci...  2021-07-16T15:13:31Z   \n",
       "4   https://www.courrierinternational.com/sites/ci...  2021-08-05T16:15:57Z   \n",
       "..                                                ...                   ...   \n",
       "95  https://storage.googleapis.com/afs-prod/media/...  2021-07-24T20:19:37Z   \n",
       "96            https://images.wsj.net/im-371120/social  2021-07-17T12:43:00Z   \n",
       "97  https://static01.nyt.com/images/2021/07/17/us/...  2021-07-17T05:11:42Z   \n",
       "98  https://storage.googleapis.com/afs-prod/media/...  2021-07-19T10:01:34Z   \n",
       "99  https://storage.googleapis.com/afs-prod/media/...  2021-07-17T08:16:30Z   \n",
       "\n",
       "                                              content  \\\n",
       "0   INTEMPÉRIES - Les pluies abondantes sur l’est ...   \n",
       "1   INONDATIONS - En deux jours seulement, les ino...   \n",
       "2   Les inondations en Rhénanie-du-Nord-Westphalie...   \n",
       "3   Les inondations en Rhénanie-du-Nord-Westphalie...   \n",
       "4   Les changements climatiques ont provoqué en le...   \n",
       "..                                                ...   \n",
       "95  BRUSSELS (AP) New floods have again swamped ar...   \n",
       "96  BERLINGermany and neighboring countries were e...   \n",
       "97  Deadly floods swept through parts of Europe th...   \n",
       "98  BERLIN (AP) German officials are defending the...   \n",
       "99  SCHULD, Germany (AP) Torrential rain turned no...   \n",
       "\n",
       "                  source.id              source.name  \n",
       "0                      None              Le HuffPost  \n",
       "1                      None              Le HuffPost  \n",
       "2                      None   Courrier International  \n",
       "3                      None   Courrier International  \n",
       "4                      None   Courrier International  \n",
       "..                      ...                      ...  \n",
       "95         associated-press         Associated Press  \n",
       "96  the-wall-street-journal  The Wall Street Journal  \n",
       "97                     None           New York Times  \n",
       "98         associated-press         Associated Press  \n",
       "99         associated-press         Associated Press  \n",
       "\n",
       "[130 rows x 9 columns]"
      ]
     },
     "metadata": {},
     "output_type": "display_data"
    }
   ],
   "source": [
    "# create a list of dataframes\n",
    "frames = [df_fr, df_en]\n",
    "# concanate the dataframes using pd.concanate()  \n",
    "result = pd.concat(frames)\n",
    "display(result)\n"
   ]
  },
  {
   "cell_type": "markdown",
   "metadata": {},
   "source": [
    "### 2.2 Exploratory Analysis\n",
    "#### 2.2.1 Francophone newspapers "
   ]
  },
  {
   "cell_type": "markdown",
   "metadata": {},
   "source": [
    "We scrapped 37 articles written in French. Here are their titles : "
   ]
  },
  {
   "cell_type": "code",
   "execution_count": 33,
   "metadata": {},
   "outputs": [
    {
     "data": {
      "text/plain": [
       "['Crue et pluie-inondation: Météo France place 13 départements du nord-est en vigilance orange',\n",
       " 'Inondations en Allemagne: les dégâts à Schuld illustrent la catastrophe',\n",
       " 'Les inondations en Allemagne sont les plus meurtrières en près de 60\\xa0ans',\n",
       " 'Les inondations en Allemagne sont déjà les plus meurtrières en près de 60\\xa0ans',\n",
       " 'Incendies, crues, chaleur\\xa0: un mois de conditions climatiques extrêmes en images',\n",
       " '25 alertes ont été émises avant les inondations, personne n’a su prévoir l’ampleur de la catastrophe',\n",
       " 'Voiture inondée : pourquoi la remettre en état coûte si cher',\n",
       " 'L’acteur flamand Mathias Vergels aide les sinistrés de Pepinster et s’indigne: «On n’est pas en Bosnie, c’est incroyable»',\n",
       " 'Crue extrême du Rhin : nous avons déjà vécu cela',\n",
       " 'Intempéries : des communes inondées en Alsace, les pompiers multiplient les interventions en Moselle',\n",
       " 'EN IMAGES. Inondations en Belgique : de violents orages font de nombreux dégâts',\n",
       " 'Le bilan des intempéries en Europe grimpe à près de 100 morts',\n",
       " 'Le bilan de intempéries en Europe grimpe à près de 100 morts',\n",
       " 'Intempéries: 25 alertes ont été émises avant les inondations, personne n’a su prévoir l’ampleur de la catastrophe',\n",
       " 'Inondations : Angela Merkel qualifie la dévastation de \"surréaliste\"',\n",
       " \"Inondations en Europe : une centaine de morts et d'importants dégâts matériels\",\n",
       " 'Allemagne : le coût matériel et humain des inondations sera colossal',\n",
       " 'Pluies, inondations, tempêtes: les intempéries les plus meurtrières en Europe depuis 20 ans',\n",
       " 'Inondations en Allemagne\\xa0: Angela Merkel défend le système d’alerte tandis que le bilan s’alourdit',\n",
       " 'En Allemagne, Berlin décide de premières aides financières pour les sinistrés des inondations',\n",
       " 'Notre photographe raconte son vécu après les inondations: \"L\\'image qui m\\'a le plus choqué est la trace d\\'eau au-dessus des garages\"',\n",
       " 'Inondation en Belgique : la vie reprend péniblement',\n",
       " \"Bpost va transférer le courrier gratuitement à l'adresse où les sinistrés sont relogés\",\n",
       " 'Inondations en Allemagne: des victimes et disparus après un glissement de terrain',\n",
       " 'Inondations : 200 morts en Europe, dont 169 en Allemagne',\n",
       " 'Catastrophes climatiques en série: vers le point de non-retour',\n",
       " \"Changement climatique : l'Alsace menacée de graves inondations\",\n",
       " 'Inondations en Allemagne : Merkel appelle à accélérer la lutte contre le changement climatique',\n",
       " \"Inondations en Allemagne: le climat au centre de campagne de l'après Merkel\",\n",
       " 'Victime des inondations à Londres, Brian May déonce la négligence et la corruption des autorités']"
      ]
     },
     "execution_count": 33,
     "metadata": {},
     "output_type": "execute_result"
    }
   ],
   "source": [
    "list(df_fr['title'])"
   ]
  },
  {
   "cell_type": "markdown",
   "metadata": {},
   "source": [
    "A lot of articles contain the word _\"Allemagne\"_ (Germany), indeed the floods of mid-July 2021 occured in both Belgium and Germany."
   ]
  },
  {
   "cell_type": "markdown",
   "metadata": {},
   "source": [
    " We visualise with a barplot which are the newspapers who wrote the most popular articles dealing with floods in Belgium :"
   ]
  },
  {
   "cell_type": "code",
   "execution_count": 34,
   "metadata": {},
   "outputs": [
    {
     "data": {
      "text/plain": [
       "<seaborn.axisgrid.FacetGrid at 0x7facc8fc2ad0>"
      ]
     },
     "execution_count": 34,
     "metadata": {},
     "output_type": "execute_result"
    },
    {
     "data": {
      "text/plain": [
       "<Figure size 1440x1440 with 0 Axes>"
      ]
     },
     "metadata": {},
     "output_type": "display_data"
    },
    {
     "data": {
      "image/png": "[encoded data removed]",
      "text/plain": [
       "<Figure size 360x360 with 1 Axes>"
      ]
     },
     "metadata": {
      "needs_background": "light"
     },
     "output_type": "display_data"
    }
   ],
   "source": [
    "# set size of the figure \n",
    "plt.figure(figsize=(20,20)) \n",
    "# create categorical plot\n",
    "sns.catplot(y=\"source.name\", kind=\"count\", palette=\"pastel\", data=df_fr)"
   ]
  },
  {
   "cell_type": "markdown",
   "metadata": {},
   "source": [
    "From this figure, one see that the newspapers which published the most popular articles concerning floods are *Le Huffington Post* and *FranceTVInfo*. This is hardly surprising knowing that These two medias are very large French media which rely on *AFP (Agence France Presse)*, the world's oldest news agency. Second to these medias are *Le Soir* and *La Libre* (amongst others) which are the two largest newspapers in French-speaking Belgium. "
   ]
  },
  {
   "cell_type": "markdown",
   "metadata": {},
   "source": [
    "#### 2.2.2 Anglophone newspapers  "
   ]
  },
  {
   "cell_type": "code",
   "execution_count": 35,
   "metadata": {},
   "outputs": [
    {
     "data": {
      "text/plain": [
       "<seaborn.axisgrid.FacetGrid at 0x7facc759bfd0>"
      ]
     },
     "execution_count": 35,
     "metadata": {},
     "output_type": "execute_result"
    },
    {
     "data": {
      "text/plain": [
       "<Figure size 1440x1440 with 0 Axes>"
      ]
     },
     "metadata": {},
     "output_type": "display_data"
    },
    {
     "data": {
      "image/png": "[encoded data removed]",
      "text/plain": [
       "<Figure size 360x360 with 1 Axes>"
      ]
     },
     "metadata": {
      "needs_background": "light"
     },
     "output_type": "display_data"
    }
   ],
   "source": [
    "plt.figure(figsize=(20,20)) \n",
    "sns.catplot(y=\"source.name\", kind=\"count\", palette=\"pastel\", data=df_en)"
   ]
  },
  {
   "cell_type": "markdown",
   "metadata": {},
   "source": [
    "20 of the most popular articles dealing with floods in Belgium were published by *Reuters*, one of the largest news agency in the World. Major newspapers from the UK (*The Guardian, BBC News*), the US (*WSJ, NY Times, Forbes*) and from Qatar (*Al Jazeera English*) were the second most popular sources."
   ]
  },
  {
   "cell_type": "markdown",
   "metadata": {},
   "source": [
    "By construction, 100 % of articles deal with floods in Belgium since we explicitely requested them from the NewsAPI. However, it might be interresting to count how many of them mention the word 'climate' in their content. To answer this question we do as follows : "
   ]
  },
  {
   "cell_type": "code",
   "execution_count": 36,
   "metadata": {},
   "outputs": [
    {
     "name": "stdout",
     "output_type": "stream",
     "text": [
      "There were 6 articles mentioning climate amongst 100 articles published in the anglophone newspapers\n"
     ]
    }
   ],
   "source": [
    "\n",
    "climate_count_en = df_en['content'].str.contains('climat').sum()\n",
    "\n",
    "if climate_count_en > 0:\n",
    "    print ('There were {n} articles mentioning climate amongst 100 articles published in the anglophone newspapers'.format(n=climate_count_en))"
   ]
  },
  {
   "cell_type": "code",
   "execution_count": 37,
   "metadata": {},
   "outputs": [
    {
     "name": "stdout",
     "output_type": "stream",
     "text": [
      "There were 3 articles mentioning climate amongst 37 articles published in the francophone newspapers\n"
     ]
    }
   ],
   "source": [
    "\n",
    "climate_count_fr = df_fr['content'].str.contains('climat').sum()\n",
    "if climate_count_fr > 0:\n",
    "    print ('There were {n} articles mentioning climate amongst 37 articles published in the francophone newspapers'.format(n=climate_count_fr))"
   ]
  },
  {
   "cell_type": "markdown",
   "metadata": {},
   "source": [
    "We see that only a small number  (less than 5% of the anglophone articles and less than 10% of the francophone articles). However, there can still be articles evoking climate change using synonym (global warming, climatic variation, unusual temperatures, climate crisis, etc...) which all point to climate change. In the next section, we shall do a word frequency analysis to see if expressions equivalent to climate change were frequently used. "
   ]
  },
  {
   "cell_type": "markdown",
   "metadata": {},
   "source": [
    "### 2.3 Word frequency analysis"
   ]
  },
  {
   "cell_type": "markdown",
   "metadata": {},
   "source": [
    "Let's study which are the most frequent words in the francophone and anglophone articles dealing with the floods. We need to use the pdftext.tf library."
   ]
  },
  {
   "cell_type": "code",
   "execution_count": 38,
   "metadata": {},
   "outputs": [],
   "source": [
    "from pdtext.tf import word_count\n",
    "from pdtext.tf import make_wf_df"
   ]
  },
  {
   "cell_type": "markdown",
   "metadata": {},
   "source": [
    "We start by creating a dataframe with the content of the articles written in English. We use the make_wf_df function which creates a wide format dataframe with the frequency of each words in the list of articles selected. We weight the frequency of each word by their rarity using the [tf-idf](https://scikit-learn.org/stable/modules/feature_extraction.html#stop-words) (term-frequency times inverse document-frequency) transform."
   ]
  },
  {
   "cell_type": "code",
   "execution_count": 40,
   "metadata": {},
   "outputs": [],
   "source": [
    "# transform into wide format\n",
    "en_articles = make_wf_df(df_en['description'],tfidf = True)\n"
   ]
  },
  {
   "cell_type": "markdown",
   "metadata": {},
   "source": [
    "We then look for the weighted frequency of specific key words : \"global\", \" warming\" and \"climate\" in a random sample of 20 English-speaking articles."
   ]
  },
  {
   "cell_type": "code",
   "execution_count": 41,
   "metadata": {},
   "outputs": [
    {
     "data": {
      "text/html": [
       "<div>\n",
       "<style scoped>\n",
       "    .dataframe tbody tr th:only-of-type {\n",
       "        vertical-align: middle;\n",
       "    }\n",
       "\n",
       "    .dataframe tbody tr th {\n",
       "        vertical-align: top;\n",
       "    }\n",
       "\n",
       "    .dataframe thead th {\n",
       "        text-align: right;\n",
       "    }\n",
       "</style>\n",
       "<table border=\"1\" class=\"dataframe\">\n",
       "  <thead>\n",
       "    <tr style=\"text-align: right;\">\n",
       "      <th></th>\n",
       "      <th>global</th>\n",
       "      <th>warming</th>\n",
       "      <th>climate</th>\n",
       "      <th>flood</th>\n",
       "    </tr>\n",
       "  </thead>\n",
       "  <tbody>\n",
       "    <tr>\n",
       "      <th>46</th>\n",
       "      <td>0.0</td>\n",
       "      <td>0.0</td>\n",
       "      <td>0.000000</td>\n",
       "      <td>0.000000</td>\n",
       "    </tr>\n",
       "    <tr>\n",
       "      <th>49</th>\n",
       "      <td>0.0</td>\n",
       "      <td>0.0</td>\n",
       "      <td>0.000000</td>\n",
       "      <td>0.000000</td>\n",
       "    </tr>\n",
       "    <tr>\n",
       "      <th>56</th>\n",
       "      <td>0.0</td>\n",
       "      <td>0.0</td>\n",
       "      <td>0.000000</td>\n",
       "      <td>0.000000</td>\n",
       "    </tr>\n",
       "    <tr>\n",
       "      <th>1</th>\n",
       "      <td>0.0</td>\n",
       "      <td>0.0</td>\n",
       "      <td>0.000000</td>\n",
       "      <td>0.000000</td>\n",
       "    </tr>\n",
       "    <tr>\n",
       "      <th>10</th>\n",
       "      <td>0.0</td>\n",
       "      <td>0.0</td>\n",
       "      <td>0.000000</td>\n",
       "      <td>0.135116</td>\n",
       "    </tr>\n",
       "    <tr>\n",
       "      <th>48</th>\n",
       "      <td>0.0</td>\n",
       "      <td>0.0</td>\n",
       "      <td>0.000000</td>\n",
       "      <td>0.000000</td>\n",
       "    </tr>\n",
       "    <tr>\n",
       "      <th>51</th>\n",
       "      <td>0.0</td>\n",
       "      <td>0.0</td>\n",
       "      <td>0.000000</td>\n",
       "      <td>0.093694</td>\n",
       "    </tr>\n",
       "    <tr>\n",
       "      <th>18</th>\n",
       "      <td>0.0</td>\n",
       "      <td>0.0</td>\n",
       "      <td>0.131773</td>\n",
       "      <td>0.000000</td>\n",
       "    </tr>\n",
       "    <tr>\n",
       "      <th>43</th>\n",
       "      <td>0.0</td>\n",
       "      <td>0.0</td>\n",
       "      <td>0.000000</td>\n",
       "      <td>0.000000</td>\n",
       "    </tr>\n",
       "    <tr>\n",
       "      <th>41</th>\n",
       "      <td>0.0</td>\n",
       "      <td>0.0</td>\n",
       "      <td>0.000000</td>\n",
       "      <td>0.000000</td>\n",
       "    </tr>\n",
       "    <tr>\n",
       "      <th>76</th>\n",
       "      <td>0.0</td>\n",
       "      <td>0.0</td>\n",
       "      <td>0.000000</td>\n",
       "      <td>0.000000</td>\n",
       "    </tr>\n",
       "    <tr>\n",
       "      <th>30</th>\n",
       "      <td>0.0</td>\n",
       "      <td>0.0</td>\n",
       "      <td>0.000000</td>\n",
       "      <td>0.000000</td>\n",
       "    </tr>\n",
       "    <tr>\n",
       "      <th>88</th>\n",
       "      <td>0.0</td>\n",
       "      <td>0.0</td>\n",
       "      <td>0.000000</td>\n",
       "      <td>0.000000</td>\n",
       "    </tr>\n",
       "    <tr>\n",
       "      <th>55</th>\n",
       "      <td>0.0</td>\n",
       "      <td>0.0</td>\n",
       "      <td>0.000000</td>\n",
       "      <td>0.000000</td>\n",
       "    </tr>\n",
       "    <tr>\n",
       "      <th>96</th>\n",
       "      <td>0.0</td>\n",
       "      <td>0.0</td>\n",
       "      <td>0.107228</td>\n",
       "      <td>0.086940</td>\n",
       "    </tr>\n",
       "    <tr>\n",
       "      <th>58</th>\n",
       "      <td>0.0</td>\n",
       "      <td>0.0</td>\n",
       "      <td>0.000000</td>\n",
       "      <td>0.000000</td>\n",
       "    </tr>\n",
       "    <tr>\n",
       "      <th>35</th>\n",
       "      <td>0.0</td>\n",
       "      <td>0.0</td>\n",
       "      <td>0.000000</td>\n",
       "      <td>0.000000</td>\n",
       "    </tr>\n",
       "    <tr>\n",
       "      <th>85</th>\n",
       "      <td>0.0</td>\n",
       "      <td>0.0</td>\n",
       "      <td>0.000000</td>\n",
       "      <td>0.000000</td>\n",
       "    </tr>\n",
       "    <tr>\n",
       "      <th>31</th>\n",
       "      <td>0.0</td>\n",
       "      <td>0.0</td>\n",
       "      <td>0.000000</td>\n",
       "      <td>0.000000</td>\n",
       "    </tr>\n",
       "    <tr>\n",
       "      <th>20</th>\n",
       "      <td>0.0</td>\n",
       "      <td>0.0</td>\n",
       "      <td>0.000000</td>\n",
       "      <td>0.000000</td>\n",
       "    </tr>\n",
       "  </tbody>\n",
       "</table>\n",
       "</div>"
      ],
      "text/plain": [
       "    global  warming   climate     flood\n",
       "46     0.0      0.0  0.000000  0.000000\n",
       "49     0.0      0.0  0.000000  0.000000\n",
       "56     0.0      0.0  0.000000  0.000000\n",
       "1      0.0      0.0  0.000000  0.000000\n",
       "10     0.0      0.0  0.000000  0.135116\n",
       "48     0.0      0.0  0.000000  0.000000\n",
       "51     0.0      0.0  0.000000  0.093694\n",
       "18     0.0      0.0  0.131773  0.000000\n",
       "43     0.0      0.0  0.000000  0.000000\n",
       "41     0.0      0.0  0.000000  0.000000\n",
       "76     0.0      0.0  0.000000  0.000000\n",
       "30     0.0      0.0  0.000000  0.000000\n",
       "88     0.0      0.0  0.000000  0.000000\n",
       "55     0.0      0.0  0.000000  0.000000\n",
       "96     0.0      0.0  0.107228  0.086940\n",
       "58     0.0      0.0  0.000000  0.000000\n",
       "35     0.0      0.0  0.000000  0.000000\n",
       "85     0.0      0.0  0.000000  0.000000\n",
       "31     0.0      0.0  0.000000  0.000000\n",
       "20     0.0      0.0  0.000000  0.000000"
      ]
     },
     "execution_count": 41,
     "metadata": {},
     "output_type": "execute_result"
    }
   ],
   "source": [
    "showme = ['global', 'warming','climate','flood']\n",
    "en_articles[showme].sample(20)"
   ]
  },
  {
   "cell_type": "markdown",
   "metadata": {},
   "source": [
    "The cell above shows that the frequency of those specific key words appears to be low. For this reason, we take a more systematic approach and look at the most frequent words in the articles : "
   ]
  },
  {
   "cell_type": "code",
   "execution_count": 42,
   "metadata": {},
   "outputs": [
    {
     "data": {
      "text/plain": [
       "the            8.009936\n",
       "and            7.880853\n",
       "in             7.207900\n",
       "li             6.080263\n",
       "to             5.678292\n",
       "of             5.233123\n",
       "germany        4.342544\n",
       "a              3.784830\n",
       "floods         3.655925\n",
       "people         3.607782\n",
       "s              3.533932\n",
       "belgium        3.468383\n",
       "on             3.400510\n",
       "europe         3.351754\n",
       "western        3.323514\n",
       "as             3.288764\n",
       "flooding       3.242201\n",
       "for            3.115856\n",
       "toll           2.838494\n",
       "more           2.795425\n",
       "from           2.767377\n",
       "that           2.748215\n",
       "by             2.687883\n",
       "flood          2.687498\n",
       "death          2.637577\n",
       "at             2.568479\n",
       "have           2.492159\n",
       "missing        2.456094\n",
       "after          2.262228\n",
       "parts          2.254994\n",
       "climate        2.252474\n",
       "with           2.252403\n",
       "were           2.235044\n",
       "rescue         2.165293\n",
       "least          2.105482\n",
       "rivers         2.083360\n",
       "has            2.052067\n",
       "than           2.002453\n",
       "is             1.949961\n",
       "devastating    1.948380\n",
       "dtype: float64"
      ]
     },
     "execution_count": 42,
     "metadata": {},
     "output_type": "execute_result"
    }
   ],
   "source": [
    "en_articles.sum().sort_values(ascending=False)[:40]"
   ]
  },
  {
   "cell_type": "markdown",
   "metadata": {},
   "source": [
    "Unsurprisingly, the words with the highest frequency are uninformative words like 'the', 'and' or 'to'. Second to these are words like germany, floods, flooding, death and so forth. This being said, 'climate' appears to be a word almost as frequent as 'missing' and 'climate' is more frequent than 'river', despite the latter being an obvious causal agent of flood."
   ]
  },
  {
   "cell_type": "markdown",
   "metadata": {},
   "source": [
    "Unfortunately, we could not replicate what we have done above for the French-speaking newspapers considering the tf-idf algorithm is not available for French language"
   ]
  },
  {
   "cell_type": "markdown",
   "metadata": {},
   "source": [
    "### 2.4 Conclusion"
   ]
  },
  {
   "cell_type": "markdown",
   "metadata": {},
   "source": [
    "Although a naive analysis of the proportion of newspapers articles would make it look like only a small proportion (5-10 %) of articles related to the recent floods in Belgium, when we conduct a word frequency analysis, it appears that when correcting for originality of words, 'climate' appears to be no less frequent than words like 'missing' and more frequent than 'rivers'. This first analysis provides hint that climate change is a frequent word evoked in articles focused on a regional natural hazard like the recent deluges in Belgium and Germany."
   ]
  },
  {
   "cell_type": "markdown",
   "metadata": {},
   "source": [
    "## 3 Climate change as an explanation for natural disasters across time"
   ]
  },
  {
   "cell_type": "markdown",
   "metadata": {},
   "source": [
    "### 3.1 Getting the data  "
   ]
  },
  {
   "cell_type": "markdown",
   "metadata": {},
   "source": [
    "We formulate the following hypothesis :"
   ]
  },
  {
   "cell_type": "markdown",
   "metadata": {},
   "source": [
    "    Did climate change as an explanation for natural disasters increased over time ?"
   ]
  },
  {
   "cell_type": "markdown",
   "metadata": {},
   "source": [
    "We will analyze 600 news articles from the Guardian, a 200 years old newspaper renowned for the quality of its content. The Guardian provides an [API](https://open-platform.theguardian.com/) which we shall use.\n",
    "\n",
    "We can access articles published over the last twenty years. We decided to study articles published from 2001 to 2019"
   ]
  },
  {
   "cell_type": "markdown",
   "metadata": {},
   "source": [
    "We need a private key to access this API :"
   ]
  },
  {
   "cell_type": "code",
   "execution_count": 10,
   "metadata": {},
   "outputs": [],
   "source": [
    "\n",
    "private_key = 'dc7f887b-05d9-4b9d-96d4-72d0b85453a2'"
   ]
  },
  {
   "cell_type": "markdown",
   "metadata": {},
   "source": [
    "We begin by scraping all news articles published the last twenty years containing both climate change and natural disasters. These will be true predictions. The Guardian API limits the number of articles sent to 200 we thus create one request per year to increase the size of our dataset. \n",
    "\n",
    "The request for scraping all articles concerning both natural hazards and climate change published in 2001 is structured as follows :\n",
    "> 1. from-date=2001-01-01&to-date=2001-12-31 _we want articles from 1st of January 2001 to 31th of December_\n",
    "> 2. page-size=200 _we request 200 articles_\n",
    "> 3. q=climate%20AND%20change%20AND%20natural%20AND%20disaster _we request articles containing the words climate change and natural disaster_\n"
   ]
  },
  {
   "cell_type": "code",
   "execution_count": 11,
   "metadata": {},
   "outputs": [],
   "source": [
    "# list of the individual URLs\n",
    "url2001_true = 'https://content.guardianapis.com/search?from-date=2001-01-01&to-date=2001-12-31&page-size=200&q=climate%20AND%20change%20AND%20natural%20AND%20disaster&api-key='+private_key\n",
    "url2002_true = 'https://content.guardianapis.com/search?from-date=2002-01-01&to-date=2002-12-31&page-size=200&q=climate%20AND%20change%20AND%20natural%20AND%20disaster&api-key='+private_key\n",
    "url2003_true = 'https://content.guardianapis.com/search?from-date=2003-01-01&to-date=2003-12-31&page-size=200&q=climate%20AND%20change%20AND%20natural%20AND%20disaster&api-key='+private_key\n",
    "url2004_true = 'https://content.guardianapis.com/search?from-date=2004-01-01&to-date=2004-12-31&page-size=200&q=climate%20AND%20change%20AND%20natural%20AND%20disaster&api-key='+private_key\n",
    "url2005_true = 'https://content.guardianapis.com/search?from-date=2005-01-01&to-date=2005-12-31&page-size=200&q=climate%20AND%20change%20AND%20natural%20AND%20disaster&api-key='+private_key\n",
    "url2006_true = 'https://content.guardianapis.com/search?from-date=2006-01-01&to-date=2006-12-31&page-size=200&q=climate%20AND%20change%20AND%20natural%20AND%20disaster&api-key='+private_key\n",
    "url2007_true = 'https://content.guardianapis.com/search?from-date=2007-01-01&to-date=2007-12-31&page-size=200&q=climate%20AND%20change%20AND%20natural%20AND%20disaster&api-key='+private_key\n",
    "url2008_true = 'https://content.guardianapis.com/search?from-date=2008-01-01&to-date=2008-12-31&page-size=200&q=climate%20AND%20change%20AND%20natural%20AND%20disaster&api-key='+private_key\n",
    "url2009_true = 'https://content.guardianapis.com/search?from-date=2009-01-01&to-date=2009-12-31&page-size=200&q=climate%20AND%20change%20AND%20natural%20AND%20disaster&api-key='+private_key\n",
    "url2010_true = 'https://content.guardianapis.com/search?from-date=2010-01-01&to-date=2010-12-31&page-size=200&q=climate%20AND%20change%20AND%20natural%20AND%20disaster&api-key='+private_key\n",
    "url2011_true = 'https://content.guardianapis.com/search?from-date=2011-01-01&to-date=2011-12-31&page-size=200&q=climate%20AND%20change%20AND%20natural%20AND%20disaster&api-key='+private_key\n",
    "url2012_true = 'https://content.guardianapis.com/search?from-date=2012-01-01&to-date=2012-12-31&page-size=200&q=climate%20AND%20change%20AND%20natural%20AND%20disaster&api-key='+private_key\n",
    "url2013_true = 'https://content.guardianapis.com/search?from-date=2013-01-01&to-date=2013-12-31&page-size=200&q=climate%20AND%20change%20AND%20natural%20AND%20disaster&api-key='+private_key\n",
    "url2014_true = 'https://content.guardianapis.com/search?from-date=2014-01-01&to-date=2014-12-31&page-size=200&q=climate%20AND%20change%20AND%20natural%20AND%20disaster&api-key='+private_key\n",
    "url2015_true = 'https://content.guardianapis.com/search?from-date=2015-01-01&to-date=2015-12-31&page-size=200&q=climate%20AND%20change%20AND%20natural%20AND%20disaster&api-key='+private_key\n",
    "url2016_true = 'https://content.guardianapis.com/search?from-date=2016-01-01&to-date=2016-12-31&page-size=200&q=climate%20AND%20change%20AND%20natural%20AND%20disaster&api-key='+private_key\n",
    "url2017_true = 'https://content.guardianapis.com/search?from-date=2017-01-01&to-date=2017-12-31&page-size=200&q=climate%20AND%20change%20AND%20natural%20AND%20disaster&api-key='+private_key\n",
    "url2018_true = 'https://content.guardianapis.com/search?from-date=2018-01-01&to-date=2018-12-31&page-size=200&q=climate%20AND%20change%20AND%20natural%20AND%20disaster&api-key='+private_key\n",
    "url2019_true = 'https://content.guardianapis.com/search?from-date=2019-01-01&to-date=2019-12-31&page-size=200&q=climate%20AND%20change%20AND%20natural%20AND%20disaster&api-key='+private_key\n",
    "# Gathering the URLs in a list :\n",
    "url_list_true = [url2001_true,url2002_true,url2003_true,url2004_true,url2005_true,url2006_true,url2007_true,url2008_true,url2009_true,url2010_true,url2011_true,url2012_true,url2013_true,url2014_true,url2015_true,url2016_true,url2017_true,url2018_true,url2019_true]"
   ]
  },
  {
   "cell_type": "markdown",
   "metadata": {},
   "source": [
    "Then we scrap all news articles who contain the words 'natural disasters' but **not** the words 'climate change'."
   ]
  },
  {
   "cell_type": "code",
   "execution_count": 12,
   "metadata": {},
   "outputs": [],
   "source": [
    "# list of the individual URLs\n",
    "url2001_false = 'https://content.guardianapis.com/search?from-date=2001-01-01&to-date=2001-12-31&page-size=200&q=natural%20AND%20disaster%20AND%20NOT%20climate%20AND%20NOT%20change&api-key='+private_key\n",
    "url2002_false = 'https://content.guardianapis.com/search?from-date=2002-01-01&to-date=2002-12-31&page-size=200&q=natural%20AND%20disaster%20AND%20NOT%20climate%20AND%20NOT%20change&api-key='+private_key\n",
    "url2003_false = 'https://content.guardianapis.com/search?from-date=2003-01-01&to-date=2003-12-31&page-size=200&q=natural%20AND%20disaster%20AND%20NOT%20climate%20AND%20NOT%20change&api-key='+private_key\n",
    "url2004_false = 'https://content.guardianapis.com/search?from-date=2004-01-01&to-date=2004-12-31&page-size=200&q=natural%20AND%20disaster%20AND%20NOT%20climate%20AND%20NOT%20change&api-key='+private_key\n",
    "url2005_false = 'https://content.guardianapis.com/search?from-date=2005-01-01&to-date=2005-12-31&page-size=200&q=natural%20AND%20disaster%20AND%20NOT%20climate%20AND%20NOT%20change&api-key='+private_key\n",
    "url2006_false = 'https://content.guardianapis.com/search?from-date=2006-01-01&to-date=2006-12-31&page-size=200&q=natural%20AND%20disaster%20AND%20NOT%20climate%20AND%20NOT%20change&api-key='+private_key\n",
    "url2007_false = 'https://content.guardianapis.com/search?from-date=2007-01-01&to-date=2007-12-31&page-size=200&q=natural%20AND%20disaster%20AND%20NOT%20climate%20AND%20NOT%20change&api-key='+private_key\n",
    "url2008_false = 'https://content.guardianapis.com/search?from-date=2008-01-01&to-date=2008-12-31&page-size=200&q=natural%20AND%20disaster%20AND%20NOT%20climate%20AND%20NOT%20change&api-key='+private_key\n",
    "url2009_false = 'https://content.guardianapis.com/search?from-date=2009-01-01&to-date=2009-12-31&page-size=200&q=natural%20AND%20disaster%20AND%20NOT%20climate%20AND%20NOT%20change&api-key='+private_key\n",
    "url2010_false = 'https://content.guardianapis.com/search?from-date=2010-01-01&to-date=2010-12-31&page-size=200&q=natural%20AND%20disaster%20AND%20NOT%20climate%20AND%20NOT%20change&api-key='+private_key\n",
    "url2011_false = 'https://content.guardianapis.com/search?from-date=2011-01-01&to-date=2011-12-31&page-size=200&q=natural%20AND%20disaster%20AND%20NOT%20climate%20AND%20NOT%20change&api-key='+private_key\n",
    "url2012_false = 'https://content.guardianapis.com/search?from-date=2012-01-01&to-date=2012-12-31&page-size=200&q=natural%20AND%20disaster%20AND%20NOT%20climate%20AND%20NOT%20change&api-key='+private_key\n",
    "url2013_false = 'https://content.guardianapis.com/search?from-date=2013-01-01&to-date=2013-12-31&page-size=200&q=natural%20AND%20disaster%20AND%20NOT%20climate%20AND%20NOT%20change&api-key='+private_key\n",
    "url2014_false = 'https://content.guardianapis.com/search?from-date=2014-01-01&to-date=2014-12-31&page-size=200&q=natural%20AND%20disaster%20AND%20NOT%20climate%20AND%20NOT%20change&api-key='+private_key\n",
    "url2015_false = 'https://content.guardianapis.com/search?from-date=2015-01-01&to-date=2015-12-31&page-size=200&q=natural%20AND%20disaster%20AND%20NOT%20climate%20AND%20NOT%20change&api-key='+private_key\n",
    "url2016_false = 'https://content.guardianapis.com/search?from-date=2016-01-01&to-date=2016-12-31&page-size=200&q=natural%20AND%20disaster%20AND%20NOT%20climate%20AND%20NOT%20change&api-key='+private_key\n",
    "url2017_false = 'https://content.guardianapis.com/search?from-date=2017-01-01&to-date=2017-12-31&page-size=200&q=natural%20AND%20disaster%20AND%20NOT%20climate%20AND%20NOT%20change&api-key='+private_key\n",
    "url2018_false = 'https://content.guardianapis.com/search?from-date=2018-01-01&to-date=2018-12-31&page-size=200&q=natural%20AND%20disaster%20AND%20NOT%20climate%20AND%20NOT%20change&api-key='+private_key\n",
    "url2019_false = 'https://content.guardianapis.com/search?from-date=2019-01-01&to-date=2019-12-31&page-size=200&q=natural%20AND%20disaster%20AND%20NOT%20climate%20AND%20NOT%20change&api-key='+private_key\n",
    "# Gathering the URLs in a list :\n",
    "url_list_false = [url2001_false,url2002_false,url2003_false,url2004_false,url2005_false,url2006_false,url2007_false,url2008_false,url2009_false,url2010_false,url2011_false,url2012_false,url2013_false,url2014_false,url2015_false,url2016_false,url2017_false,url2018_false,url2019_false]\n"
   ]
  },
  {
   "cell_type": "markdown",
   "metadata": {},
   "source": [
    "We create two empty lists which will contain one json dictionary for each year."
   ]
  },
  {
   "cell_type": "code",
   "execution_count": 13,
   "metadata": {},
   "outputs": [],
   "source": [
    "list_requests_true = []\n",
    "list_requests_false = []"
   ]
  },
  {
   "cell_type": "markdown",
   "metadata": {},
   "source": [
    "Filling the lists of true and false dataframes :  "
   ]
  },
  {
   "cell_type": "code",
   "execution_count": 14,
   "metadata": {},
   "outputs": [],
   "source": [
    "for i in range(0,19) :\n",
    "    list_requests_true.append(requests.get(url_list_true[i])) \n",
    "    \n",
    "for i in range(0,19) :\n",
    "    list_requests_false.append(requests.get(url_list_false[i])) "
   ]
  },
  {
   "cell_type": "markdown",
   "metadata": {},
   "source": [
    "We check that the requests were successfull (200 status code)"
   ]
  },
  {
   "cell_type": "code",
   "execution_count": 15,
   "metadata": {},
   "outputs": [
    {
     "name": "stdout",
     "output_type": "stream",
     "text": [
      "[<Response [200]>, <Response [200]>, <Response [200]>, <Response [200]>, <Response [200]>, <Response [200]>, <Response [200]>, <Response [200]>, <Response [200]>, <Response [200]>, <Response [200]>, <Response [200]>, <Response [200]>, <Response [200]>, <Response [200]>, <Response [200]>, <Response [200]>, <Response [200]>, <Response [503]>]\n"
     ]
    }
   ],
   "source": [
    "print(list_requests_true)\n"
   ]
  },
  {
   "cell_type": "code",
   "execution_count": 16,
   "metadata": {},
   "outputs": [
    {
     "name": "stdout",
     "output_type": "stream",
     "text": [
      "[<Response [200]>, <Response [200]>, <Response [200]>, <Response [200]>, <Response [200]>, <Response [200]>, <Response [200]>, <Response [200]>, <Response [200]>, <Response [200]>, <Response [200]>, <Response [200]>, <Response [200]>, <Response [200]>, <Response [200]>, <Response [200]>, <Response [200]>, <Response [200]>, <Response [200]>]\n"
     ]
    }
   ],
   "source": [
    "print(list_requests_false)"
   ]
  },
  {
   "cell_type": "markdown",
   "metadata": {},
   "source": [
    "Create a list of jsons dictionaries : "
   ]
  },
  {
   "cell_type": "code",
   "execution_count": 17,
   "metadata": {},
   "outputs": [],
   "source": [
    "list_jsons_true = []\n",
    "list_jsons_false = []\n",
    "\n",
    "\n",
    "for i in range(0,19) :\n",
    "    list_jsons_true.append(list_requests_true[i].json())\n",
    "    \n",
    "for i in range(0,19) :\n",
    "    list_jsons_false.append(list_requests_false[i].json())"
   ]
  },
  {
   "cell_type": "markdown",
   "metadata": {},
   "source": [
    "Convert the jsons dictionaries to dataframes : "
   ]
  },
  {
   "cell_type": "code",
   "execution_count": 18,
   "metadata": {},
   "outputs": [],
   "source": [
    "# create empty lists which will contain one panda dataframe for each year :\n",
    "list_pandas_true = []\n",
    "list_pandas_false = []\n",
    "# fill the lists : \n",
    "for i in range(0,18) :    \n",
    "    list_pandas_true.append(pd.json_normalize(list_jsons_true[i]['response'],record_path=['results']))\n",
    "\n",
    "for i in range(0,18) :    \n",
    "    list_pandas_false.append(pd.json_normalize(list_jsons_false[i]['response'],record_path=['results']))\n"
   ]
  },
  {
   "cell_type": "markdown",
   "metadata": {},
   "source": [
    "Extract the yearly dataframes from the list :"
   ]
  },
  {
   "cell_type": "code",
   "execution_count": 19,
   "metadata": {},
   "outputs": [],
   "source": [
    "df_true_01 = list_pandas_true[0]\n",
    "df_true_02 = list_pandas_true[1]\n",
    "df_true_03 = list_pandas_true[2]\n",
    "df_true_04 = list_pandas_true[3]\n",
    "df_true_05 = list_pandas_true[4]\n",
    "df_true_06 = list_pandas_true[5]\n",
    "df_true_07 = list_pandas_true[6]\n",
    "df_true_08 = list_pandas_true[7]\n",
    "df_true_09 = list_pandas_true[8]\n",
    "df_true_10 = list_pandas_true[9]\n",
    "df_true_11 = list_pandas_true[10]\n",
    "df_true_12 = list_pandas_true[11]\n",
    "df_true_13 = list_pandas_true[12]\n",
    "df_true_14 = list_pandas_true[13]\n",
    "df_true_15 = list_pandas_true[14]\n",
    "df_true_16 = list_pandas_true[15]\n",
    "df_true_17 = list_pandas_true[16]\n",
    "df_true_18 = list_pandas_true[17]"
   ]
  },
  {
   "cell_type": "markdown",
   "metadata": {},
   "source": [
    "Add a column \"Target\". Fill it with 1 if the news article contains the words \"natural disaster\" and \"climate change\" and fill it with 0 if the news article contains \"natural disaster\" but **not** \"climate change\". "
   ]
  },
  {
   "cell_type": "code",
   "execution_count": 20,
   "metadata": {},
   "outputs": [],
   "source": [
    "df_true_01[\"Target\"] = 1\n",
    "df_true_02[\"Target\"] = 1 \n",
    "df_true_03[\"Target\"] = 1 \n",
    "df_true_04[\"Target\"] = 1 \n",
    "df_true_05[\"Target\"] = 1 \n",
    "df_true_06[\"Target\"] = 1 \n",
    "df_true_07[\"Target\"] = 1 \n",
    "df_true_08[\"Target\"] = 1 \n",
    "df_true_09[\"Target\"] = 1 \n",
    "df_true_10[\"Target\"] = 1 \n",
    "df_true_11[\"Target\"] = 1 \n",
    "df_true_12[\"Target\"] = 1 \n",
    "df_true_13[\"Target\"] = 1 \n",
    "df_true_14[\"Target\"] = 1 \n",
    "df_true_15[\"Target\"] = 1 \n",
    "df_true_16[\"Target\"] = 1 \n",
    "df_true_17[\"Target\"] = 1 \n",
    "df_true_18[\"Target\"] = 1 "
   ]
  },
  {
   "cell_type": "markdown",
   "metadata": {},
   "source": [
    "Repeat for the \"false\" dataframes, begin by extract the dataframes : "
   ]
  },
  {
   "cell_type": "code",
   "execution_count": 22,
   "metadata": {},
   "outputs": [],
   "source": [
    "df_false_01 = list_pandas_false[0]\n",
    "df_false_02 = list_pandas_false[1]\n",
    "df_false_03 = list_pandas_false[2]\n",
    "df_false_04 = list_pandas_false[3]\n",
    "df_false_05 = list_pandas_false[4]\n",
    "df_false_06 = list_pandas_false[5]\n",
    "df_false_07 = list_pandas_false[6]\n",
    "df_false_08 = list_pandas_false[7]\n",
    "df_false_09 = list_pandas_false[8]\n",
    "df_false_10 = list_pandas_false[9]\n",
    "df_false_11 = list_pandas_false[10]\n",
    "df_false_12 = list_pandas_false[11]\n",
    "df_false_13 = list_pandas_false[12]\n",
    "df_false_14 = list_pandas_false[13]\n",
    "df_false_15 = list_pandas_false[14]\n",
    "df_false_16 = list_pandas_false[15]\n",
    "df_false_17 = list_pandas_false[16]\n",
    "df_false_18 = list_pandas_false[17]"
   ]
  },
  {
   "cell_type": "markdown",
   "metadata": {},
   "source": [
    "Then add the \"Target\" column and fill it with **0** this time."
   ]
  },
  {
   "cell_type": "code",
   "execution_count": 23,
   "metadata": {},
   "outputs": [],
   "source": [
    "df_false_01[\"Target\"] = 0\n",
    "df_false_02[\"Target\"] = 0 \n",
    "df_false_03[\"Target\"] = 0 \n",
    "df_false_04[\"Target\"] = 0 \n",
    "df_false_05[\"Target\"] = 0 \n",
    "df_false_06[\"Target\"] = 0 \n",
    "df_false_07[\"Target\"] = 0 \n",
    "df_false_08[\"Target\"] = 0 \n",
    "df_false_09[\"Target\"] = 0 \n",
    "df_false_10[\"Target\"] = 0 \n",
    "df_false_11[\"Target\"] = 0 \n",
    "df_false_12[\"Target\"] = 0 \n",
    "df_false_13[\"Target\"] = 0 \n",
    "df_false_14[\"Target\"] = 0 \n",
    "df_false_15[\"Target\"] = 0 \n",
    "df_false_16[\"Target\"] = 0 \n",
    "df_false_17[\"Target\"] = 0 \n",
    "df_false_18[\"Target\"] = 0 "
   ]
  },
  {
   "cell_type": "markdown",
   "metadata": {},
   "source": [
    "Finally, we merge the dataframes"
   ]
  },
  {
   "cell_type": "code",
   "execution_count": 24,
   "metadata": {},
   "outputs": [],
   "source": [
    "# Create frames : \n",
    "\n",
    "frames_01 = [df_true_01, df_false_01] \n",
    "frames_02 = [df_true_02, df_false_02]\n",
    "frames_03 = [df_true_03, df_false_03]\n",
    "frames_04 = [df_true_04, df_false_04]\n",
    "frames_05 = [df_true_05, df_false_05]\n",
    "frames_06 = [df_true_06, df_false_06]\n",
    "frames_07 = [df_true_07, df_false_07]\n",
    "frames_08 = [df_true_08, df_false_08]\n",
    "frames_09 = [df_true_09, df_false_09]\n",
    "frames_10 = [df_true_10, df_false_10]\n",
    "frames_11 = [df_true_11, df_false_11]\n",
    "frames_12 = [df_true_12, df_false_12]\n",
    "frames_13 = [df_true_13, df_false_13]\n",
    "frames_14 = [df_true_14, df_false_14]\n",
    "frames_15 = [df_true_15, df_false_15]\n",
    "frames_16 = [df_true_16, df_false_16]\n",
    "frames_17 = [df_true_17, df_false_17]\n",
    "frames_18 = [df_true_18, df_false_18]\n",
    "\n",
    "# Concanate frames : \n",
    "df_full01 = pd.concat(frames_01)\n",
    "df_full02 = pd.concat(frames_02)\n",
    "df_full03 = pd.concat(frames_03)\n",
    "df_full04 = pd.concat(frames_04)\n",
    "df_full05 = pd.concat(frames_05)\n",
    "df_full06 = pd.concat(frames_06)\n",
    "df_full07 = pd.concat(frames_07)\n",
    "df_full08 = pd.concat(frames_08)\n",
    "df_full09 = pd.concat(frames_09)\n",
    "df_full10 = pd.concat(frames_10)\n",
    "df_full11 = pd.concat(frames_11)\n",
    "df_full12 = pd.concat(frames_12)\n",
    "df_full13 = pd.concat(frames_13)\n",
    "df_full14 = pd.concat(frames_14)\n",
    "df_full15 = pd.concat(frames_15)\n",
    "df_full16 = pd.concat(frames_16)\n",
    "df_full17 = pd.concat(frames_17)\n",
    "df_full18 = pd.concat(frames_18)\n",
    "\n",
    "df_full_list = [df_full01,df_full02,df_full03,df_full04,df_full05,df_full06,df_full07,df_full08,df_full09,df_full10,df_full11,df_full12,df_full13,df_full14,df_full15,df_full16,df_full17,df_full18]\n",
    "\n",
    "                \n",
    "\n"
   ]
  },
  {
   "cell_type": "markdown",
   "metadata": {},
   "source": [
    "We also concanate all the dataframes together to get _df_total_ : "
   ]
  },
  {
   "cell_type": "code",
   "execution_count": 25,
   "metadata": {},
   "outputs": [],
   "source": [
    "                \n",
    "frames_total = [df_full01,df_full02,df_full03,df_full04,df_full05,df_full06,df_full07,df_full08,df_full09,df_full10,df_full11,df_full12,df_full13,df_full14,df_full15,df_full16,df_full17,df_full18]                 \n",
    "df_total = pd.concat(frames_total)\n"
   ]
  },
  {
   "cell_type": "markdown",
   "metadata": {},
   "source": [
    "Our total dataset consists of 4768 different articles, we print _df_total_ :"
   ]
  },
  {
   "cell_type": "code",
   "execution_count": 26,
   "metadata": {
    "scrolled": true
   },
   "outputs": [
    {
     "data": {
      "text/html": [
       "<div>\n",
       "<style scoped>\n",
       "    .dataframe tbody tr th:only-of-type {\n",
       "        vertical-align: middle;\n",
       "    }\n",
       "\n",
       "    .dataframe tbody tr th {\n",
       "        vertical-align: top;\n",
       "    }\n",
       "\n",
       "    .dataframe thead th {\n",
       "        text-align: right;\n",
       "    }\n",
       "</style>\n",
       "<table border=\"1\" class=\"dataframe\">\n",
       "  <thead>\n",
       "    <tr style=\"text-align: right;\">\n",
       "      <th></th>\n",
       "      <th>id</th>\n",
       "      <th>type</th>\n",
       "      <th>sectionId</th>\n",
       "      <th>sectionName</th>\n",
       "      <th>webPublicationDate</th>\n",
       "      <th>webTitle</th>\n",
       "      <th>webUrl</th>\n",
       "      <th>apiUrl</th>\n",
       "      <th>isHosted</th>\n",
       "      <th>pillarId</th>\n",
       "      <th>pillarName</th>\n",
       "      <th>Target</th>\n",
       "    </tr>\n",
       "  </thead>\n",
       "  <tbody>\n",
       "    <tr>\n",
       "      <th>0</th>\n",
       "      <td>society/2001/dec/29/fundraising</td>\n",
       "      <td>article</td>\n",
       "      <td>society</td>\n",
       "      <td>Society</td>\n",
       "      <td>2001-12-29T12:21:48Z</td>\n",
       "      <td>Red Cross to drop disaster appeals in favour o...</td>\n",
       "      <td>https://www.theguardian.com/society/2001/dec/2...</td>\n",
       "      <td>https://content.guardianapis.com/society/2001/...</td>\n",
       "      <td>False</td>\n",
       "      <td>pillar/news</td>\n",
       "      <td>News</td>\n",
       "      <td>1</td>\n",
       "    </tr>\n",
       "    <tr>\n",
       "      <th>1</th>\n",
       "      <td>uk/2001/dec/29/angeliquechrisafis.timradford</td>\n",
       "      <td>article</td>\n",
       "      <td>uk-news</td>\n",
       "      <td>UK news</td>\n",
       "      <td>2001-12-29T01:30:24Z</td>\n",
       "      <td>Red Cross to drop disaster appeals</td>\n",
       "      <td>https://www.theguardian.com/uk/2001/dec/29/ang...</td>\n",
       "      <td>https://content.guardianapis.com/uk/2001/dec/2...</td>\n",
       "      <td>False</td>\n",
       "      <td>pillar/news</td>\n",
       "      <td>News</td>\n",
       "      <td>1</td>\n",
       "    </tr>\n",
       "    <tr>\n",
       "      <th>2</th>\n",
       "      <td>business/2001/jul/16/climatechange.environment</td>\n",
       "      <td>article</td>\n",
       "      <td>business</td>\n",
       "      <td>Business</td>\n",
       "      <td>2001-07-16T01:19:22Z</td>\n",
       "      <td>Blueprint to avert global disaster</td>\n",
       "      <td>https://www.theguardian.com/business/2001/jul/...</td>\n",
       "      <td>https://content.guardianapis.com/business/2001...</td>\n",
       "      <td>False</td>\n",
       "      <td>pillar/news</td>\n",
       "      <td>News</td>\n",
       "      <td>1</td>\n",
       "    </tr>\n",
       "    <tr>\n",
       "      <th>3</th>\n",
       "      <td>world/2001/jun/29/climatechange.physicalsciences</td>\n",
       "      <td>article</td>\n",
       "      <td>world</td>\n",
       "      <td>World news</td>\n",
       "      <td>2001-06-29T09:38:13Z</td>\n",
       "      <td>Disasters will outstrip aid effort as world he...</td>\n",
       "      <td>https://www.theguardian.com/world/2001/jun/29/...</td>\n",
       "      <td>https://content.guardianapis.com/world/2001/ju...</td>\n",
       "      <td>False</td>\n",
       "      <td>pillar/news</td>\n",
       "      <td>News</td>\n",
       "      <td>1</td>\n",
       "    </tr>\n",
       "    <tr>\n",
       "      <th>4</th>\n",
       "      <td>environment/2001/jul/14/physicalsciences.clima...</td>\n",
       "      <td>article</td>\n",
       "      <td>environment</td>\n",
       "      <td>Environment</td>\n",
       "      <td>2001-07-14T11:41:48Z</td>\n",
       "      <td>The heat is on for a solution in Bonn</td>\n",
       "      <td>https://www.theguardian.com/environment/2001/j...</td>\n",
       "      <td>https://content.guardianapis.com/environment/2...</td>\n",
       "      <td>False</td>\n",
       "      <td>pillar/news</td>\n",
       "      <td>News</td>\n",
       "      <td>1</td>\n",
       "    </tr>\n",
       "    <tr>\n",
       "      <th>...</th>\n",
       "      <td>...</td>\n",
       "      <td>...</td>\n",
       "      <td>...</td>\n",
       "      <td>...</td>\n",
       "      <td>...</td>\n",
       "      <td>...</td>\n",
       "      <td>...</td>\n",
       "      <td>...</td>\n",
       "      <td>...</td>\n",
       "      <td>...</td>\n",
       "      <td>...</td>\n",
       "      <td>...</td>\n",
       "    </tr>\n",
       "    <tr>\n",
       "      <th>195</th>\n",
       "      <td>commentisfree/2018/jul/13/world-cup-united-eng...</td>\n",
       "      <td>article</td>\n",
       "      <td>commentisfree</td>\n",
       "      <td>Opinion</td>\n",
       "      <td>2018-07-13T05:00:00Z</td>\n",
       "      <td>The World Cup has united England. Enjoy it whi...</td>\n",
       "      <td>https://www.theguardian.com/commentisfree/2018...</td>\n",
       "      <td>https://content.guardianapis.com/commentisfree...</td>\n",
       "      <td>False</td>\n",
       "      <td>pillar/opinion</td>\n",
       "      <td>Opinion</td>\n",
       "      <td>0</td>\n",
       "    </tr>\n",
       "    <tr>\n",
       "      <th>196</th>\n",
       "      <td>news/2018/jun/18/are-we-running-out-of-water</td>\n",
       "      <td>article</td>\n",
       "      <td>news</td>\n",
       "      <td>News</td>\n",
       "      <td>2018-06-18T05:00:37Z</td>\n",
       "      <td>Are we running out of water?</td>\n",
       "      <td>https://www.theguardian.com/news/2018/jun/18/a...</td>\n",
       "      <td>https://content.guardianapis.com/news/2018/jun...</td>\n",
       "      <td>False</td>\n",
       "      <td>pillar/news</td>\n",
       "      <td>News</td>\n",
       "      <td>0</td>\n",
       "    </tr>\n",
       "    <tr>\n",
       "      <th>197</th>\n",
       "      <td>environment/2018/oct/05/why-the-next-four-mont...</td>\n",
       "      <td>article</td>\n",
       "      <td>environment</td>\n",
       "      <td>Environment</td>\n",
       "      <td>2018-10-05T10:13:19Z</td>\n",
       "      <td>Why the next three months are crucial for the ...</td>\n",
       "      <td>https://www.theguardian.com/environment/2018/o...</td>\n",
       "      <td>https://content.guardianapis.com/environment/2...</td>\n",
       "      <td>False</td>\n",
       "      <td>pillar/news</td>\n",
       "      <td>News</td>\n",
       "      <td>0</td>\n",
       "    </tr>\n",
       "    <tr>\n",
       "      <th>198</th>\n",
       "      <td>commentisfree/2018/jun/03/general-election-201...</td>\n",
       "      <td>article</td>\n",
       "      <td>commentisfree</td>\n",
       "      <td>Opinion</td>\n",
       "      <td>2018-06-03T16:56:30Z</td>\n",
       "      <td>From last year’s shock election came opportuni...</td>\n",
       "      <td>https://www.theguardian.com/commentisfree/2018...</td>\n",
       "      <td>https://content.guardianapis.com/commentisfree...</td>\n",
       "      <td>False</td>\n",
       "      <td>pillar/opinion</td>\n",
       "      <td>Opinion</td>\n",
       "      <td>0</td>\n",
       "    </tr>\n",
       "    <tr>\n",
       "      <th>199</th>\n",
       "      <td>commentisfree/2018/jan/26/davos-humiliation-br...</td>\n",
       "      <td>article</td>\n",
       "      <td>commentisfree</td>\n",
       "      <td>Opinion</td>\n",
       "      <td>2018-01-26T17:14:45Z</td>\n",
       "      <td>Davos: the latest humiliation in Britain’s rol...</td>\n",
       "      <td>https://www.theguardian.com/commentisfree/2018...</td>\n",
       "      <td>https://content.guardianapis.com/commentisfree...</td>\n",
       "      <td>False</td>\n",
       "      <td>pillar/opinion</td>\n",
       "      <td>Opinion</td>\n",
       "      <td>0</td>\n",
       "    </tr>\n",
       "  </tbody>\n",
       "</table>\n",
       "<p>4768 rows × 12 columns</p>\n",
       "</div>"
      ],
      "text/plain": [
       "                                                    id     type  \\\n",
       "0                      society/2001/dec/29/fundraising  article   \n",
       "1         uk/2001/dec/29/angeliquechrisafis.timradford  article   \n",
       "2       business/2001/jul/16/climatechange.environment  article   \n",
       "3     world/2001/jun/29/climatechange.physicalsciences  article   \n",
       "4    environment/2001/jul/14/physicalsciences.clima...  article   \n",
       "..                                                 ...      ...   \n",
       "195  commentisfree/2018/jul/13/world-cup-united-eng...  article   \n",
       "196       news/2018/jun/18/are-we-running-out-of-water  article   \n",
       "197  environment/2018/oct/05/why-the-next-four-mont...  article   \n",
       "198  commentisfree/2018/jun/03/general-election-201...  article   \n",
       "199  commentisfree/2018/jan/26/davos-humiliation-br...  article   \n",
       "\n",
       "         sectionId  sectionName    webPublicationDate  \\\n",
       "0          society      Society  2001-12-29T12:21:48Z   \n",
       "1          uk-news      UK news  2001-12-29T01:30:24Z   \n",
       "2         business     Business  2001-07-16T01:19:22Z   \n",
       "3            world   World news  2001-06-29T09:38:13Z   \n",
       "4      environment  Environment  2001-07-14T11:41:48Z   \n",
       "..             ...          ...                   ...   \n",
       "195  commentisfree      Opinion  2018-07-13T05:00:00Z   \n",
       "196           news         News  2018-06-18T05:00:37Z   \n",
       "197    environment  Environment  2018-10-05T10:13:19Z   \n",
       "198  commentisfree      Opinion  2018-06-03T16:56:30Z   \n",
       "199  commentisfree      Opinion  2018-01-26T17:14:45Z   \n",
       "\n",
       "                                              webTitle  \\\n",
       "0    Red Cross to drop disaster appeals in favour o...   \n",
       "1                   Red Cross to drop disaster appeals   \n",
       "2                   Blueprint to avert global disaster   \n",
       "3    Disasters will outstrip aid effort as world he...   \n",
       "4                The heat is on for a solution in Bonn   \n",
       "..                                                 ...   \n",
       "195  The World Cup has united England. Enjoy it whi...   \n",
       "196                       Are we running out of water?   \n",
       "197  Why the next three months are crucial for the ...   \n",
       "198  From last year’s shock election came opportuni...   \n",
       "199  Davos: the latest humiliation in Britain’s rol...   \n",
       "\n",
       "                                                webUrl  \\\n",
       "0    https://www.theguardian.com/society/2001/dec/2...   \n",
       "1    https://www.theguardian.com/uk/2001/dec/29/ang...   \n",
       "2    https://www.theguardian.com/business/2001/jul/...   \n",
       "3    https://www.theguardian.com/world/2001/jun/29/...   \n",
       "4    https://www.theguardian.com/environment/2001/j...   \n",
       "..                                                 ...   \n",
       "195  https://www.theguardian.com/commentisfree/2018...   \n",
       "196  https://www.theguardian.com/news/2018/jun/18/a...   \n",
       "197  https://www.theguardian.com/environment/2018/o...   \n",
       "198  https://www.theguardian.com/commentisfree/2018...   \n",
       "199  https://www.theguardian.com/commentisfree/2018...   \n",
       "\n",
       "                                                apiUrl  isHosted  \\\n",
       "0    https://content.guardianapis.com/society/2001/...     False   \n",
       "1    https://content.guardianapis.com/uk/2001/dec/2...     False   \n",
       "2    https://content.guardianapis.com/business/2001...     False   \n",
       "3    https://content.guardianapis.com/world/2001/ju...     False   \n",
       "4    https://content.guardianapis.com/environment/2...     False   \n",
       "..                                                 ...       ...   \n",
       "195  https://content.guardianapis.com/commentisfree...     False   \n",
       "196  https://content.guardianapis.com/news/2018/jun...     False   \n",
       "197  https://content.guardianapis.com/environment/2...     False   \n",
       "198  https://content.guardianapis.com/commentisfree...     False   \n",
       "199  https://content.guardianapis.com/commentisfree...     False   \n",
       "\n",
       "           pillarId pillarName  Target  \n",
       "0       pillar/news       News       1  \n",
       "1       pillar/news       News       1  \n",
       "2       pillar/news       News       1  \n",
       "3       pillar/news       News       1  \n",
       "4       pillar/news       News       1  \n",
       "..              ...        ...     ...  \n",
       "195  pillar/opinion    Opinion       0  \n",
       "196     pillar/news       News       0  \n",
       "197     pillar/news       News       0  \n",
       "198  pillar/opinion    Opinion       0  \n",
       "199  pillar/opinion    Opinion       0  \n",
       "\n",
       "[4768 rows x 12 columns]"
      ]
     },
     "execution_count": 26,
     "metadata": {},
     "output_type": "execute_result"
    }
   ],
   "source": [
    "df_total"
   ]
  },
  {
   "cell_type": "markdown",
   "metadata": {},
   "source": [
    " We now have at our disposal for each year a dataframe containing news articles classified as 1 if they contain both \"natural disaster\" and \"climate change\" and classified as 0 if they only contain the words \"natural disaster\". "
   ]
  },
  {
   "cell_type": "markdown",
   "metadata": {},
   "source": [
    "### 3.2 Proportion of articles associating natural disasters with climate change over time "
   ]
  },
  {
   "cell_type": "markdown",
   "metadata": {},
   "source": [
    "In 2001 only 7% of articles associated natural disasters with climate change."
   ]
  },
  {
   "cell_type": "code",
   "execution_count": 27,
   "metadata": {},
   "outputs": [
    {
     "data": {
      "text/plain": [
       "0    93.023256\n",
       "1     6.976744\n",
       "Name: Target, dtype: float64"
      ]
     },
     "execution_count": 27,
     "metadata": {},
     "output_type": "execute_result"
    }
   ],
   "source": [
    "df_full01['Target'].value_counts(normalize=True) * 100\n",
    "\n"
   ]
  },
  {
   "cell_type": "markdown",
   "metadata": {},
   "source": [
    "In 2005 this proportion rose to 14 % "
   ]
  },
  {
   "cell_type": "code",
   "execution_count": 28,
   "metadata": {},
   "outputs": [
    {
     "data": {
      "text/plain": [
       "0    86.206897\n",
       "1    13.793103\n",
       "Name: Target, dtype: float64"
      ]
     },
     "execution_count": 28,
     "metadata": {},
     "output_type": "execute_result"
    }
   ],
   "source": [
    "df_full05['Target'].value_counts(normalize=True) * 100\n"
   ]
  },
  {
   "cell_type": "markdown",
   "metadata": {},
   "source": [
    "...then to 23 % :"
   ]
  },
  {
   "cell_type": "code",
   "execution_count": 29,
   "metadata": {},
   "outputs": [
    {
     "data": {
      "text/plain": [
       "0    76.923077\n",
       "1    23.076923\n",
       "Name: Target, dtype: float64"
      ]
     },
     "execution_count": 29,
     "metadata": {},
     "output_type": "execute_result"
    }
   ],
   "source": [
    "df_full10['Target'].value_counts(normalize=True) * 100\n"
   ]
  },
  {
   "cell_type": "markdown",
   "metadata": {},
   "source": [
    "And eventually to 33 % in 2018 : "
   ]
  },
  {
   "cell_type": "markdown",
   "metadata": {},
   "source": [
    "In a more systematic fashion, we can compute the proportion of articles containing both climate change and natural disasters : "
   ]
  },
  {
   "cell_type": "code",
   "execution_count": 30,
   "metadata": {},
   "outputs": [],
   "source": [
    "prop01 =  df_full01['Target'].value_counts(normalize=True) * 100\n",
    "prop02 =  df_full02['Target'].value_counts(normalize=True) * 100\n",
    "prop03 =  df_full03['Target'].value_counts(normalize=True) * 100\n",
    "prop04 =  df_full04['Target'].value_counts(normalize=True) * 100\n",
    "prop05 =  df_full05['Target'].value_counts(normalize=True) * 100\n",
    "prop06 =  df_full06['Target'].value_counts(normalize=True) * 100\n",
    "prop07 =  df_full07['Target'].value_counts(normalize=True) * 100\n",
    "prop08 =  df_full08['Target'].value_counts(normalize=True) * 100\n",
    "prop09 =  df_full09['Target'].value_counts(normalize=True) * 100\n",
    "prop10 =  df_full10['Target'].value_counts(normalize=True) * 100\n",
    "prop11 =  df_full11['Target'].value_counts(normalize=True) * 100\n",
    "prop12 =  df_full12['Target'].value_counts(normalize=True) * 100\n",
    "prop13 =  df_full13['Target'].value_counts(normalize=True) * 100\n",
    "prop14 =  df_full14['Target'].value_counts(normalize=True) * 100\n",
    "prop15 =  df_full15['Target'].value_counts(normalize=True) * 100\n",
    "prop16 =  df_full16['Target'].value_counts(normalize=True) * 100\n",
    "prop17 =  df_full17['Target'].value_counts(normalize=True) * 100\n",
    "prop18 =  df_full18['Target'].value_counts(normalize=True) * 100\n",
    "\n"
   ]
  },
  {
   "cell_type": "markdown",
   "metadata": {},
   "source": [
    "Then we can bring these values together in a dataframe :"
   ]
  },
  {
   "cell_type": "code",
   "execution_count": 57,
   "metadata": {},
   "outputs": [
    {
     "data": {
      "text/html": [
       "<div>\n",
       "<style scoped>\n",
       "    .dataframe tbody tr th:only-of-type {\n",
       "        vertical-align: middle;\n",
       "    }\n",
       "\n",
       "    .dataframe tbody tr th {\n",
       "        vertical-align: top;\n",
       "    }\n",
       "\n",
       "    .dataframe thead th {\n",
       "        text-align: right;\n",
       "    }\n",
       "</style>\n",
       "<table border=\"1\" class=\"dataframe\">\n",
       "  <thead>\n",
       "    <tr style=\"text-align: right;\">\n",
       "      <th></th>\n",
       "      <th>vector_prop</th>\n",
       "      <th>year</th>\n",
       "    </tr>\n",
       "  </thead>\n",
       "  <tbody>\n",
       "    <tr>\n",
       "      <th>0</th>\n",
       "      <td>6.976744</td>\n",
       "      <td>2001</td>\n",
       "    </tr>\n",
       "    <tr>\n",
       "      <th>1</th>\n",
       "      <td>6.508876</td>\n",
       "      <td>2002</td>\n",
       "    </tr>\n",
       "    <tr>\n",
       "      <th>2</th>\n",
       "      <td>4.306220</td>\n",
       "      <td>2003</td>\n",
       "    </tr>\n",
       "    <tr>\n",
       "      <th>3</th>\n",
       "      <td>7.834101</td>\n",
       "      <td>2004</td>\n",
       "    </tr>\n",
       "    <tr>\n",
       "      <th>4</th>\n",
       "      <td>13.793103</td>\n",
       "      <td>2005</td>\n",
       "    </tr>\n",
       "    <tr>\n",
       "      <th>5</th>\n",
       "      <td>16.666667</td>\n",
       "      <td>2006</td>\n",
       "    </tr>\n",
       "    <tr>\n",
       "      <th>6</th>\n",
       "      <td>24.812030</td>\n",
       "      <td>2007</td>\n",
       "    </tr>\n",
       "    <tr>\n",
       "      <th>7</th>\n",
       "      <td>26.739927</td>\n",
       "      <td>2008</td>\n",
       "    </tr>\n",
       "    <tr>\n",
       "      <th>8</th>\n",
       "      <td>22.480620</td>\n",
       "      <td>2009</td>\n",
       "    </tr>\n",
       "    <tr>\n",
       "      <th>9</th>\n",
       "      <td>23.076923</td>\n",
       "      <td>2010</td>\n",
       "    </tr>\n",
       "    <tr>\n",
       "      <th>10</th>\n",
       "      <td>26.470588</td>\n",
       "      <td>2011</td>\n",
       "    </tr>\n",
       "    <tr>\n",
       "      <th>11</th>\n",
       "      <td>28.057554</td>\n",
       "      <td>2012</td>\n",
       "    </tr>\n",
       "    <tr>\n",
       "      <th>12</th>\n",
       "      <td>33.554817</td>\n",
       "      <td>2013</td>\n",
       "    </tr>\n",
       "    <tr>\n",
       "      <th>13</th>\n",
       "      <td>37.694704</td>\n",
       "      <td>2014</td>\n",
       "    </tr>\n",
       "    <tr>\n",
       "      <th>14</th>\n",
       "      <td>39.939940</td>\n",
       "      <td>2015</td>\n",
       "    </tr>\n",
       "    <tr>\n",
       "      <th>15</th>\n",
       "      <td>39.393939</td>\n",
       "      <td>2016</td>\n",
       "    </tr>\n",
       "    <tr>\n",
       "      <th>16</th>\n",
       "      <td>32.659933</td>\n",
       "      <td>2017</td>\n",
       "    </tr>\n",
       "    <tr>\n",
       "      <th>17</th>\n",
       "      <td>32.659933</td>\n",
       "      <td>2018</td>\n",
       "    </tr>\n",
       "  </tbody>\n",
       "</table>\n",
       "</div>"
      ],
      "text/plain": [
       "    vector_prop  year\n",
       "0      6.976744  2001\n",
       "1      6.508876  2002\n",
       "2      4.306220  2003\n",
       "3      7.834101  2004\n",
       "4     13.793103  2005\n",
       "5     16.666667  2006\n",
       "6     24.812030  2007\n",
       "7     26.739927  2008\n",
       "8     22.480620  2009\n",
       "9     23.076923  2010\n",
       "10    26.470588  2011\n",
       "11    28.057554  2012\n",
       "12    33.554817  2013\n",
       "13    37.694704  2014\n",
       "14    39.939940  2015\n",
       "15    39.393939  2016\n",
       "16    32.659933  2017\n",
       "17    32.659933  2018"
      ]
     },
     "execution_count": 57,
     "metadata": {},
     "output_type": "execute_result"
    }
   ],
   "source": [
    "# vector of proportions : \n",
    "vector_prop = np.array([prop01[1],prop02[1],prop03[1],prop04[1],prop05[1],prop06[1],prop07[1],prop08[1],\n",
    "               prop09[1],prop10[1],prop11[1],prop12[1],prop13[1],prop14[1],prop15[1],prop16[1],\n",
    "               prop17[1],prop18[1]])\n",
    "# vector of years\n",
    "year = np.array([2001,2002,2003,2004,2005,2006,2007,2008,2009,2010,2011,2012,2013,2014,2015,2016,2017,2018])\n",
    "# bring the two together in a panda dataframe : \n",
    "d = {'vector_prop': vector_prop, 'year': year}\n",
    "df_prop = pd.DataFrame(data=d)\n",
    "# print the resulting dataframe\n",
    "df_prop"
   ]
  },
  {
   "cell_type": "markdown",
   "metadata": {},
   "source": [
    "We can visualize this result through a scatter plot :  "
   ]
  },
  {
   "cell_type": "code",
   "execution_count": 34,
   "metadata": {},
   "outputs": [
    {
     "data": {
      "text/plain": [
       "<matplotlib.axes._subplots.AxesSubplot at 0x7f3b108a8a50>"
      ]
     },
     "execution_count": 34,
     "metadata": {},
     "output_type": "execute_result"
    },
    {
     "data": {
      "image/png": "[encoded data removed]",
      "text/plain": [
       "<Figure size 432x288 with 1 Axes>"
      ]
     },
     "metadata": {
      "needs_background": "light"
     },
     "output_type": "display_data"
    }
   ],
   "source": [
    "df_prop.plot.scatter(y=\"vector_prop\",x=\"year\")"
   ]
  },
  {
   "cell_type": "markdown",
   "metadata": {},
   "source": [
    "The increase in proportion as time goes by is obvious, we can fit a linear trend to it. "
   ]
  },
  {
   "cell_type": "code",
   "execution_count": 35,
   "metadata": {},
   "outputs": [],
   "source": [
    "# Polynomial fit of degree 1 (linear regression) : \n",
    "d = np.polyfit(df_prop['year'],df_prop['vector_prop'],1)\n",
    "f = np.poly1d(d)\n",
    "# insert the regression in the dataframe \n",
    "df_prop.insert(2,'Regression',f(df_prop['year']))\n"
   ]
  },
  {
   "cell_type": "markdown",
   "metadata": {},
   "source": [
    "And we eventually overprint the regression line (in red) over the points :"
   ]
  },
  {
   "cell_type": "code",
   "execution_count": 36,
   "metadata": {},
   "outputs": [
    {
     "data": {
      "text/plain": [
       "<matplotlib.axes._subplots.AxesSubplot at 0x7f3b10078c90>"
      ]
     },
     "execution_count": 36,
     "metadata": {},
     "output_type": "execute_result"
    },
    {
     "data": {
      "image/png": "[encoded data removed]",
      "text/plain": [
       "<Figure size 432x288 with 1 Axes>"
      ]
     },
     "metadata": {
      "needs_background": "light"
     },
     "output_type": "display_data"
    }
   ],
   "source": [
    "ax = df_prop.plot.scatter(x = 'year',y='vector_prop')\n",
    "df_prop.plot(x='year', y='Regression',color='Red',ax=ax)"
   ]
  },
  {
   "cell_type": "markdown",
   "metadata": {},
   "source": [
    "Clearly, we see a trend in the proportion of articles dealing with natural disasters also containing climate change, going from less than 10 before 2005 to 35-40 % in 2015-2018. This trend seems to be linear, we therefore fit a linear regression using the least squares method. "
   ]
  },
  {
   "cell_type": "code",
   "execution_count": 37,
   "metadata": {},
   "outputs": [],
   "source": [
    "model = LinearRegression().fit(year.reshape(-1, 1), vector_prop)\n",
    "r_sq = model.score(year.reshape(-1, 1), vector_prop)"
   ]
  },
  {
   "cell_type": "markdown",
   "metadata": {},
   "source": [
    "We can also compute the R² which is 0.86, which indicates satisfactory fit. "
   ]
  },
  {
   "cell_type": "code",
   "execution_count": 38,
   "metadata": {},
   "outputs": [
    {
     "name": "stdout",
     "output_type": "stream",
     "text": [
      "coefficient of determination: 0.8663593937226428\n"
     ]
    }
   ],
   "source": [
    "print('coefficient of determination:', r_sq)"
   ]
  },
  {
   "cell_type": "markdown",
   "metadata": {},
   "source": [
    "### 3.3 Text Classification : predicting if articles deal with climate change based on their titles"
   ]
  },
  {
   "cell_type": "markdown",
   "metadata": {},
   "source": [
    "In this section, we will craft a model to predict whether articles deal with climate change based on their titles. The dataset we are going to use is the _df_total_ dataset, which contains articles from 2001 to 2018."
   ]
  },
  {
   "cell_type": "markdown",
   "metadata": {},
   "source": [
    "This is a classification exercise, we need to classify articles as 1 if they contain 'climate change' and '0' if they do not. We want to avoid circularity so we remove the words 'climate change' from the vectorizer. We also remove words which are too common to be informative, like \"the\" or \"and\"."
   ]
  },
  {
   "cell_type": "code",
   "execution_count": 40,
   "metadata": {},
   "outputs": [],
   "source": [
    "stopwords = ['climate', 'the', 'a', 'to', 'of', 'and', 'in', 'for', \n",
    "                   'that','this', 'you', 'by', 'but', 'an', 'if', 'be', \n",
    "                   'has', 'on', 'is', 'with', 'its', 'it', 'change', 'as', 'have',\n",
    "                   'are']\n"
   ]
  },
  {
   "cell_type": "markdown",
   "metadata": {},
   "source": [
    " We use the CountVectorizer to convert the titles to a matrix of token counts. We convert to lower.case, we use .01 as the minimum threshold for the words to be included in the analysis and .8 for the max threshold.  "
   ]
  },
  {
   "cell_type": "code",
   "execution_count": 41,
   "metadata": {},
   "outputs": [],
   "source": [
    "vectorizer = CountVectorizer(lowercase   = True,\n",
    "                             ngram_range = (1,1),\n",
    "                             min_df      = .01,\n",
    "                             max_df     = .80,\n",
    "                             max_features = None,\n",
    "                            stop_words=stopwords)"
   ]
  },
  {
   "cell_type": "markdown",
   "metadata": {},
   "source": [
    "We split the data in 2 equal parts, a training set (to train the model) and a testing set."
   ]
  },
  {
   "cell_type": "code",
   "execution_count": 42,
   "metadata": {},
   "outputs": [],
   "source": [
    "train, test = train_test_split(df_total, test_size=0.5)"
   ]
  },
  {
   "cell_type": "code",
   "execution_count": 43,
   "metadata": {},
   "outputs": [
    {
     "data": {
      "text/plain": [
       "CountVectorizer(analyzer='word', binary=False, decode_error='strict',\n",
       "                dtype=<class 'numpy.int64'>, encoding='utf-8', input='content',\n",
       "                lowercase=True, max_df=0.8, max_features=None, min_df=0.01,\n",
       "                ngram_range=(1, 1), preprocessor=None,\n",
       "                stop_words=['climate', 'the', 'a', 'to', 'of', 'and', 'in',\n",
       "                            'for', 'that', 'this', 'you', 'by', 'but', 'an',\n",
       "                            'if', 'be', 'has', 'on', 'is', 'with', 'its', 'it',\n",
       "                            'change', 'as', 'have', 'are'],\n",
       "                strip_accents=None, token_pattern='(?u)\\\\b\\\\w\\\\w+\\\\b',\n",
       "                tokenizer=None, vocabulary=None)"
      ]
     },
     "execution_count": 43,
     "metadata": {},
     "output_type": "execute_result"
    }
   ],
   "source": [
    "vectorizer.fit(train['webTitle'])"
   ]
  },
  {
   "cell_type": "code",
   "execution_count": 44,
   "metadata": {},
   "outputs": [
    {
     "data": {
      "text/plain": [
       "['about',\n",
       " 'after',\n",
       " 'aid',\n",
       " 'all',\n",
       " 'at',\n",
       " 'australia',\n",
       " 'back',\n",
       " 'big',\n",
       " 'bp',\n",
       " 'britain',\n",
       " 'can',\n",
       " 'city',\n",
       " 'could',\n",
       " 'crisis',\n",
       " 'deal',\n",
       " 'death',\n",
       " 'disaster',\n",
       " 'disasters',\n",
       " 'do',\n",
       " 'earthquake',\n",
       " 'floods',\n",
       " 'food',\n",
       " 'from',\n",
       " 'george',\n",
       " 'global',\n",
       " 'green',\n",
       " 'guardian',\n",
       " 'happened',\n",
       " 'how',\n",
       " 'hurricane',\n",
       " 'into',\n",
       " 'john',\n",
       " 'just',\n",
       " 'letters',\n",
       " 'live',\n",
       " 'may',\n",
       " 'monbiot',\n",
       " 'more',\n",
       " 'must',\n",
       " 'natural',\n",
       " 'new',\n",
       " 'no',\n",
       " 'not',\n",
       " 'nuclear',\n",
       " 'oil',\n",
       " 'one',\n",
       " 'or',\n",
       " 'our',\n",
       " 'out',\n",
       " 'over',\n",
       " 'people',\n",
       " 'report',\n",
       " 'review',\n",
       " 'says',\n",
       " 'scientists',\n",
       " 'than',\n",
       " 'time',\n",
       " 'toll',\n",
       " 'trump',\n",
       " 'tsunami',\n",
       " 'uk',\n",
       " 'un',\n",
       " 'up',\n",
       " 'us',\n",
       " 'war',\n",
       " 'warming',\n",
       " 'warns',\n",
       " 'we',\n",
       " 'what',\n",
       " 'who',\n",
       " 'why',\n",
       " 'will',\n",
       " 'world',\n",
       " 'year',\n",
       " 'your']"
      ]
     },
     "execution_count": 44,
     "metadata": {},
     "output_type": "execute_result"
    }
   ],
   "source": [
    "vectorizer.get_feature_names()"
   ]
  },
  {
   "cell_type": "code",
   "execution_count": 45,
   "metadata": {},
   "outputs": [],
   "source": [
    "# Train data\n",
    "\n",
    "title_train = vectorizer.transform(train['webTitle'])\n",
    "target_train = train['Target']\n",
    "\n",
    "# Test data\n",
    "\n",
    "title_test = vectorizer.transform(test['webTitle'])\n",
    "target_test = test['Target']\n"
   ]
  },
  {
   "cell_type": "markdown",
   "metadata": {},
   "source": [
    "We use a _logistic regression_ classifier, with a 1000 iterations. "
   ]
  },
  {
   "cell_type": "code",
   "execution_count": 46,
   "metadata": {},
   "outputs": [],
   "source": [
    "lr_classifier = LogisticRegression(max_iter=1000)"
   ]
  },
  {
   "cell_type": "code",
   "execution_count": 47,
   "metadata": {},
   "outputs": [
    {
     "data": {
      "text/plain": [
       "LogisticRegression(C=1.0, class_weight=None, dual=False, fit_intercept=True,\n",
       "                   intercept_scaling=1, l1_ratio=None, max_iter=1000,\n",
       "                   multi_class='auto', n_jobs=None, penalty='l2',\n",
       "                   random_state=None, solver='lbfgs', tol=0.0001, verbose=0,\n",
       "                   warm_start=False)"
      ]
     },
     "execution_count": 47,
     "metadata": {},
     "output_type": "execute_result"
    }
   ],
   "source": [
    "lr_classifier.fit(title_train,target_train) "
   ]
  },
  {
   "cell_type": "code",
   "execution_count": 48,
   "metadata": {},
   "outputs": [],
   "source": [
    "coeficients = pd.Series(lr_classifier.coef_[0],\n",
    "                        index = vectorizer.get_feature_names())"
   ]
  },
  {
   "cell_type": "markdown",
   "metadata": {},
   "source": [
    "Here are the coefficients with the highest predicting value : "
   ]
  },
  {
   "cell_type": "code",
   "execution_count": 49,
   "metadata": {},
   "outputs": [
    {
     "data": {
      "text/plain": [
       "tsunami      -1.742539\n",
       "earthquake   -1.363828\n",
       "your         -0.984693\n",
       "toll         -0.890934\n",
       "who          -0.726486\n",
       "over         -0.720073\n",
       "bp           -0.602182\n",
       "review       -0.505720\n",
       "war          -0.477471\n",
       "no           -0.431584\n",
       "natural      -0.405125\n",
       "city         -0.372629\n",
       "after        -0.358593\n",
       "nuclear      -0.330534\n",
       "what         -0.324621\n",
       "out          -0.271130\n",
       "oil          -0.255861\n",
       "aid          -0.210213\n",
       "at           -0.164170\n",
       "says         -0.154979\n",
       "can          -0.149622\n",
       "just         -0.084026\n",
       "we           -0.047467\n",
       "into         -0.010395\n",
       "why           0.009799\n",
       "about         0.022194\n",
       "or            0.027374\n",
       "our           0.032351\n",
       "disaster      0.044696\n",
       "may           0.053088\n",
       "people        0.063988\n",
       "un            0.067229\n",
       "more          0.081833\n",
       "food          0.087958\n",
       "crisis        0.099551\n",
       "hurricane     0.109404\n",
       "deal          0.155436\n",
       "letters       0.168691\n",
       "us            0.180300\n",
       "from          0.221018\n",
       "disasters     0.242691\n",
       "how           0.247069\n",
       "one           0.255490\n",
       "do            0.272783\n",
       "floods        0.279543\n",
       "up            0.282133\n",
       "george        0.287586\n",
       "uk            0.313218\n",
       "all           0.318365\n",
       "back          0.324413\n",
       "dtype: float64"
      ]
     },
     "execution_count": 49,
     "metadata": {},
     "output_type": "execute_result"
    }
   ],
   "source": [
    "coeficients.sort_values(ascending=True).head(50)"
   ]
  },
  {
   "cell_type": "markdown",
   "metadata": {},
   "source": [
    "Predicting values "
   ]
  },
  {
   "cell_type": "code",
   "execution_count": 50,
   "metadata": {},
   "outputs": [
    {
     "data": {
      "text/plain": [
       "array([0, 0, 0, ..., 0, 0, 0])"
      ]
     },
     "execution_count": 50,
     "metadata": {},
     "output_type": "execute_result"
    }
   ],
   "source": [
    "lr_classifier.fit(title_train, target_train)\n",
    "lr_classifier.predict(title_test)"
   ]
  },
  {
   "cell_type": "markdown",
   "metadata": {},
   "source": [
    "We then add the 'prediction' column to the testing dataset."
   ]
  },
  {
   "cell_type": "code",
   "execution_count": 51,
   "metadata": {},
   "outputs": [
    {
     "name": "stderr",
     "output_type": "stream",
     "text": [
      "/home/max/anaconda3/lib/python3.7/site-packages/ipykernel_launcher.py:1: SettingWithCopyWarning: \n",
      "A value is trying to be set on a copy of a slice from a DataFrame.\n",
      "Try using .loc[row_indexer,col_indexer] = value instead\n",
      "\n",
      "See the caveats in the documentation: https://pandas.pydata.org/pandas-docs/stable/user_guide/indexing.html#returning-a-view-versus-a-copy\n",
      "  \"\"\"Entry point for launching an IPython kernel.\n"
     ]
    }
   ],
   "source": [
    "test['prediction']  = lr_classifier.predict(title_test)"
   ]
  },
  {
   "cell_type": "markdown",
   "metadata": {},
   "source": [
    "There are now in the testing dataset both the 'Target' column and the 'predicted' column. Measuring the difference between these two columns will allow us to assess the quality of our model. "
   ]
  },
  {
   "cell_type": "code",
   "execution_count": 52,
   "metadata": {},
   "outputs": [
    {
     "data": {
      "text/html": [
       "<div>\n",
       "<style scoped>\n",
       "    .dataframe tbody tr th:only-of-type {\n",
       "        vertical-align: middle;\n",
       "    }\n",
       "\n",
       "    .dataframe tbody tr th {\n",
       "        vertical-align: top;\n",
       "    }\n",
       "\n",
       "    .dataframe thead th {\n",
       "        text-align: right;\n",
       "    }\n",
       "</style>\n",
       "<table border=\"1\" class=\"dataframe\">\n",
       "  <thead>\n",
       "    <tr style=\"text-align: right;\">\n",
       "      <th></th>\n",
       "      <th>id</th>\n",
       "      <th>type</th>\n",
       "      <th>sectionId</th>\n",
       "      <th>sectionName</th>\n",
       "      <th>webPublicationDate</th>\n",
       "      <th>webTitle</th>\n",
       "      <th>webUrl</th>\n",
       "      <th>apiUrl</th>\n",
       "      <th>isHosted</th>\n",
       "      <th>pillarId</th>\n",
       "      <th>pillarName</th>\n",
       "      <th>Target</th>\n",
       "      <th>prediction</th>\n",
       "    </tr>\n",
       "  </thead>\n",
       "  <tbody>\n",
       "    <tr>\n",
       "      <th>38</th>\n",
       "      <td>football/blog/2015/dec/02/ronald-koeman-wemble...</td>\n",
       "      <td>article</td>\n",
       "      <td>football</td>\n",
       "      <td>Football</td>\n",
       "      <td>2015-12-02T22:00:39Z</td>\n",
       "      <td>Ronald Koeman falls off Wembley springboard in...</td>\n",
       "      <td>https://www.theguardian.com/football/blog/2015...</td>\n",
       "      <td>https://content.guardianapis.com/football/blog...</td>\n",
       "      <td>False</td>\n",
       "      <td>pillar/sport</td>\n",
       "      <td>Sport</td>\n",
       "      <td>0</td>\n",
       "      <td>0</td>\n",
       "    </tr>\n",
       "    <tr>\n",
       "      <th>147</th>\n",
       "      <td>media/2008/nov/10/newspapers-election-coverage</td>\n",
       "      <td>article</td>\n",
       "      <td>media</td>\n",
       "      <td>Media</td>\n",
       "      <td>2008-11-10T00:01:00Z</td>\n",
       "      <td>Peter Wilby on the press's US election coverage</td>\n",
       "      <td>https://www.theguardian.com/media/2008/nov/10/...</td>\n",
       "      <td>https://content.guardianapis.com/media/2008/no...</td>\n",
       "      <td>False</td>\n",
       "      <td>pillar/news</td>\n",
       "      <td>News</td>\n",
       "      <td>0</td>\n",
       "      <td>0</td>\n",
       "    </tr>\n",
       "    <tr>\n",
       "      <th>146</th>\n",
       "      <td>world/2015/may/10/why-i-had-return-to-nepal-ea...</td>\n",
       "      <td>article</td>\n",
       "      <td>world</td>\n",
       "      <td>World news</td>\n",
       "      <td>2015-05-10T07:00:06Z</td>\n",
       "      <td>Nepal earthquake: why I had to return to a dev...</td>\n",
       "      <td>https://www.theguardian.com/world/2015/may/10/...</td>\n",
       "      <td>https://content.guardianapis.com/world/2015/ma...</td>\n",
       "      <td>False</td>\n",
       "      <td>pillar/news</td>\n",
       "      <td>News</td>\n",
       "      <td>0</td>\n",
       "      <td>0</td>\n",
       "    </tr>\n",
       "    <tr>\n",
       "      <th>123</th>\n",
       "      <td>world/2005/sep/04/hurricanekatrina.usa</td>\n",
       "      <td>article</td>\n",
       "      <td>us-news</td>\n",
       "      <td>US news</td>\n",
       "      <td>2005-09-04T00:27:41Z</td>\n",
       "      <td>Focus: Aftermath of the hurricane</td>\n",
       "      <td>https://www.theguardian.com/world/2005/sep/04/...</td>\n",
       "      <td>https://content.guardianapis.com/world/2005/se...</td>\n",
       "      <td>False</td>\n",
       "      <td>pillar/news</td>\n",
       "      <td>News</td>\n",
       "      <td>0</td>\n",
       "      <td>0</td>\n",
       "    </tr>\n",
       "    <tr>\n",
       "      <th>116</th>\n",
       "      <td>books/2018/jan/20/the-wanderers-by-tim-pears-r...</td>\n",
       "      <td>article</td>\n",
       "      <td>books</td>\n",
       "      <td>Books</td>\n",
       "      <td>2018-01-20T09:40:18Z</td>\n",
       "      <td>The Wanderers by Tim Pears review – a hypnotic...</td>\n",
       "      <td>https://www.theguardian.com/books/2018/jan/20/...</td>\n",
       "      <td>https://content.guardianapis.com/books/2018/ja...</td>\n",
       "      <td>False</td>\n",
       "      <td>pillar/arts</td>\n",
       "      <td>Arts</td>\n",
       "      <td>0</td>\n",
       "      <td>0</td>\n",
       "    </tr>\n",
       "    <tr>\n",
       "      <th>...</th>\n",
       "      <td>...</td>\n",
       "      <td>...</td>\n",
       "      <td>...</td>\n",
       "      <td>...</td>\n",
       "      <td>...</td>\n",
       "      <td>...</td>\n",
       "      <td>...</td>\n",
       "      <td>...</td>\n",
       "      <td>...</td>\n",
       "      <td>...</td>\n",
       "      <td>...</td>\n",
       "      <td>...</td>\n",
       "      <td>...</td>\n",
       "    </tr>\n",
       "    <tr>\n",
       "      <th>42</th>\n",
       "      <td>uk/2011/jun/01/blackpool-earthquake-tremors-ga...</td>\n",
       "      <td>article</td>\n",
       "      <td>environment</td>\n",
       "      <td>Environment</td>\n",
       "      <td>2011-06-01T00:36:46Z</td>\n",
       "      <td>Blackpool earthquake tremors may have been cau...</td>\n",
       "      <td>https://www.theguardian.com/uk/2011/jun/01/bla...</td>\n",
       "      <td>https://content.guardianapis.com/uk/2011/jun/0...</td>\n",
       "      <td>False</td>\n",
       "      <td>pillar/news</td>\n",
       "      <td>News</td>\n",
       "      <td>1</td>\n",
       "      <td>0</td>\n",
       "    </tr>\n",
       "    <tr>\n",
       "      <th>5</th>\n",
       "      <td>technology/2011/may/08/earthquake-tsunami-earl...</td>\n",
       "      <td>article</td>\n",
       "      <td>science</td>\n",
       "      <td>Science</td>\n",
       "      <td>2011-05-07T23:04:02Z</td>\n",
       "      <td>Bill McGuire: 'A global databank could warn of...</td>\n",
       "      <td>https://www.theguardian.com/technology/2011/ma...</td>\n",
       "      <td>https://content.guardianapis.com/technology/20...</td>\n",
       "      <td>False</td>\n",
       "      <td>pillar/news</td>\n",
       "      <td>News</td>\n",
       "      <td>0</td>\n",
       "      <td>0</td>\n",
       "    </tr>\n",
       "    <tr>\n",
       "      <th>127</th>\n",
       "      <td>travel/2016/jan/01/2016-holiday-guide-where-to-go</td>\n",
       "      <td>article</td>\n",
       "      <td>travel</td>\n",
       "      <td>Travel</td>\n",
       "      <td>2016-01-01T07:00:25Z</td>\n",
       "      <td>Where to go on holiday in 2016</td>\n",
       "      <td>https://www.theguardian.com/travel/2016/jan/01...</td>\n",
       "      <td>https://content.guardianapis.com/travel/2016/j...</td>\n",
       "      <td>False</td>\n",
       "      <td>pillar/lifestyle</td>\n",
       "      <td>Lifestyle</td>\n",
       "      <td>1</td>\n",
       "      <td>0</td>\n",
       "    </tr>\n",
       "    <tr>\n",
       "      <th>55</th>\n",
       "      <td>society/2014/dec/03/hospital-childbirth-miscon...</td>\n",
       "      <td>article</td>\n",
       "      <td>society</td>\n",
       "      <td>Society</td>\n",
       "      <td>2014-12-03T00:01:11Z</td>\n",
       "      <td>Hospital births have never been safest – Nice ...</td>\n",
       "      <td>https://www.theguardian.com/society/2014/dec/0...</td>\n",
       "      <td>https://content.guardianapis.com/society/2014/...</td>\n",
       "      <td>False</td>\n",
       "      <td>pillar/news</td>\n",
       "      <td>News</td>\n",
       "      <td>0</td>\n",
       "      <td>0</td>\n",
       "    </tr>\n",
       "    <tr>\n",
       "      <th>53</th>\n",
       "      <td>media/2006/aug/31/usnews.broadcasting</td>\n",
       "      <td>article</td>\n",
       "      <td>media</td>\n",
       "      <td>Media</td>\n",
       "      <td>2006-08-31T06:10:31Z</td>\n",
       "      <td>Flushes and blushes over Bush speech</td>\n",
       "      <td>https://www.theguardian.com/media/2006/aug/31/...</td>\n",
       "      <td>https://content.guardianapis.com/media/2006/au...</td>\n",
       "      <td>False</td>\n",
       "      <td>pillar/news</td>\n",
       "      <td>News</td>\n",
       "      <td>0</td>\n",
       "      <td>0</td>\n",
       "    </tr>\n",
       "  </tbody>\n",
       "</table>\n",
       "<p>2384 rows × 13 columns</p>\n",
       "</div>"
      ],
      "text/plain": [
       "                                                    id     type    sectionId  \\\n",
       "38   football/blog/2015/dec/02/ronald-koeman-wemble...  article     football   \n",
       "147     media/2008/nov/10/newspapers-election-coverage  article        media   \n",
       "146  world/2015/may/10/why-i-had-return-to-nepal-ea...  article        world   \n",
       "123             world/2005/sep/04/hurricanekatrina.usa  article      us-news   \n",
       "116  books/2018/jan/20/the-wanderers-by-tim-pears-r...  article        books   \n",
       "..                                                 ...      ...          ...   \n",
       "42   uk/2011/jun/01/blackpool-earthquake-tremors-ga...  article  environment   \n",
       "5    technology/2011/may/08/earthquake-tsunami-earl...  article      science   \n",
       "127  travel/2016/jan/01/2016-holiday-guide-where-to-go  article       travel   \n",
       "55   society/2014/dec/03/hospital-childbirth-miscon...  article      society   \n",
       "53               media/2006/aug/31/usnews.broadcasting  article        media   \n",
       "\n",
       "     sectionName    webPublicationDate  \\\n",
       "38      Football  2015-12-02T22:00:39Z   \n",
       "147        Media  2008-11-10T00:01:00Z   \n",
       "146   World news  2015-05-10T07:00:06Z   \n",
       "123      US news  2005-09-04T00:27:41Z   \n",
       "116        Books  2018-01-20T09:40:18Z   \n",
       "..           ...                   ...   \n",
       "42   Environment  2011-06-01T00:36:46Z   \n",
       "5        Science  2011-05-07T23:04:02Z   \n",
       "127       Travel  2016-01-01T07:00:25Z   \n",
       "55       Society  2014-12-03T00:01:11Z   \n",
       "53         Media  2006-08-31T06:10:31Z   \n",
       "\n",
       "                                              webTitle  \\\n",
       "38   Ronald Koeman falls off Wembley springboard in...   \n",
       "147    Peter Wilby on the press's US election coverage   \n",
       "146  Nepal earthquake: why I had to return to a dev...   \n",
       "123                  Focus: Aftermath of the hurricane   \n",
       "116  The Wanderers by Tim Pears review – a hypnotic...   \n",
       "..                                                 ...   \n",
       "42   Blackpool earthquake tremors may have been cau...   \n",
       "5    Bill McGuire: 'A global databank could warn of...   \n",
       "127                     Where to go on holiday in 2016   \n",
       "55   Hospital births have never been safest – Nice ...   \n",
       "53                Flushes and blushes over Bush speech   \n",
       "\n",
       "                                                webUrl  \\\n",
       "38   https://www.theguardian.com/football/blog/2015...   \n",
       "147  https://www.theguardian.com/media/2008/nov/10/...   \n",
       "146  https://www.theguardian.com/world/2015/may/10/...   \n",
       "123  https://www.theguardian.com/world/2005/sep/04/...   \n",
       "116  https://www.theguardian.com/books/2018/jan/20/...   \n",
       "..                                                 ...   \n",
       "42   https://www.theguardian.com/uk/2011/jun/01/bla...   \n",
       "5    https://www.theguardian.com/technology/2011/ma...   \n",
       "127  https://www.theguardian.com/travel/2016/jan/01...   \n",
       "55   https://www.theguardian.com/society/2014/dec/0...   \n",
       "53   https://www.theguardian.com/media/2006/aug/31/...   \n",
       "\n",
       "                                                apiUrl  isHosted  \\\n",
       "38   https://content.guardianapis.com/football/blog...     False   \n",
       "147  https://content.guardianapis.com/media/2008/no...     False   \n",
       "146  https://content.guardianapis.com/world/2015/ma...     False   \n",
       "123  https://content.guardianapis.com/world/2005/se...     False   \n",
       "116  https://content.guardianapis.com/books/2018/ja...     False   \n",
       "..                                                 ...       ...   \n",
       "42   https://content.guardianapis.com/uk/2011/jun/0...     False   \n",
       "5    https://content.guardianapis.com/technology/20...     False   \n",
       "127  https://content.guardianapis.com/travel/2016/j...     False   \n",
       "55   https://content.guardianapis.com/society/2014/...     False   \n",
       "53   https://content.guardianapis.com/media/2006/au...     False   \n",
       "\n",
       "             pillarId pillarName  Target  prediction  \n",
       "38       pillar/sport      Sport       0           0  \n",
       "147       pillar/news       News       0           0  \n",
       "146       pillar/news       News       0           0  \n",
       "123       pillar/news       News       0           0  \n",
       "116       pillar/arts       Arts       0           0  \n",
       "..                ...        ...     ...         ...  \n",
       "42        pillar/news       News       1           0  \n",
       "5         pillar/news       News       0           0  \n",
       "127  pillar/lifestyle  Lifestyle       1           0  \n",
       "55        pillar/news       News       0           0  \n",
       "53        pillar/news       News       0           0  \n",
       "\n",
       "[2384 rows x 13 columns]"
      ]
     },
     "execution_count": 52,
     "metadata": {},
     "output_type": "execute_result"
    }
   ],
   "source": [
    "test"
   ]
  },
  {
   "cell_type": "markdown",
   "metadata": {},
   "source": [
    "We begin by computing the accuracy score of our model"
   ]
  },
  {
   "cell_type": "code",
   "execution_count": 53,
   "metadata": {},
   "outputs": [],
   "source": [
    "from sklearn.metrics import classification_report, confusion_matrix, accuracy_score"
   ]
  },
  {
   "cell_type": "code",
   "execution_count": 54,
   "metadata": {},
   "outputs": [
    {
     "data": {
      "text/plain": [
       "0.7596476510067114"
      ]
     },
     "execution_count": 54,
     "metadata": {},
     "output_type": "execute_result"
    }
   ],
   "source": [
    "accuracy_score(test['Target'], test['prediction'])"
   ]
  },
  {
   "cell_type": "markdown",
   "metadata": {},
   "source": [
    "Then we display the confusion matrix "
   ]
  },
  {
   "cell_type": "code",
   "execution_count": 55,
   "metadata": {},
   "outputs": [
    {
     "data": {
      "text/plain": [
       "<matplotlib.axes._subplots.AxesSubplot at 0x7f3b0ff73690>"
      ]
     },
     "execution_count": 55,
     "metadata": {},
     "output_type": "execute_result"
    },
    {
     "data": {
      "image/png": "[encoded data removed]",
      "text/plain": [
       "<Figure size 432x288 with 2 Axes>"
      ]
     },
     "metadata": {
      "needs_background": "light"
     },
     "output_type": "display_data"
    }
   ],
   "source": [
    "import seaborn as sns\n",
    "\n",
    "cm = confusion_matrix(test['Target'], test['prediction'])\n",
    "sns.heatmap(cm, annot=True, cmap=\"Greens\", fmt='g')"
   ]
  },
  {
   "cell_type": "markdown",
   "metadata": {},
   "source": [
    "The model predicts quite well, with an accuracy score above 75 %."
   ]
  },
  {
   "cell_type": "code",
   "execution_count": 56,
   "metadata": {},
   "outputs": [
    {
     "name": "stdout",
     "output_type": "stream",
     "text": [
      "              precision    recall  f1-score   support\n",
      "\n",
      "           0       0.77      0.97      0.86      1798\n",
      "           1       0.55      0.12      0.19       586\n",
      "\n",
      "    accuracy                           0.76      2384\n",
      "   macro avg       0.66      0.54      0.53      2384\n",
      "weighted avg       0.72      0.76      0.70      2384\n",
      "\n"
     ]
    }
   ],
   "source": [
    "print(classification_report(test['Target'], test['prediction']))"
   ]
  },
  {
   "cell_type": "markdown",
   "metadata": {},
   "source": [
    "Overall, with an accuracy of 0.76 and a precision whose weighted average is 72 %, our model fits the testing data pretty well. Nevertheless, it should be mentionned that the models is much better at predicting negative values (articles which do not contain the words climate change) than positive. This is due to our original dataset containing much more positive than negative values.   "
   ]
  },
  {
   "cell_type": "markdown",
   "metadata": {},
   "source": [
    "## 4. Conclusion"
   ]
  },
  {
   "cell_type": "markdown",
   "metadata": {},
   "source": [
    "Firstly, we analyzed a collection of articles from both French-speaking and English-speaking newspapers. We did not see a noticable difference between the two. Only a small proportion of them associated natural disasters to climate change. However, when looking at the overall picture, climate change was an expression used as often as causal agents like flood, this could indicate that the press is willing to associate natural disaters to climate change in the case of the recent floods which occured in Western Europe. \n",
    "\n",
    "In the second part of this work, we focused on one single newspapers with an international outreach, _The Guardian_ from 2001 to 2019. One of our main finding is that over the last two decades, natural disasters have been more and more associated with climate change. The evidence lies in the fact that the proportion of articles including the words climate change amongst all articles dealing with natural hazards has rose from a negligible 5 % to a staggering 40 %. \n",
    "\n",
    "This does differ quite a lot from the 5-10 % figure which was obtained from the first part of this work. How can one explain such a difference ? The reason may lie in the fact that a lot of the articles scraped in the first part of this work come from News Agency (_Reuters_ and _Agence France Presse_). News Agency's objective is more about bringing to their audience timely and accurate news than providing their audience a sound analysis of the recent events. This kind of press may be less interested in providing systemic explanations for events than insight-orientated newspapers like (The Guardian, The Economist, The NYT, etc..).\n",
    "\n",
    "In the final part of this work, we build a model to predict whether an article would contain the words 'climate change' based on the title of this article. Our model, based on a logistic regression classifier had an accuracy measure of 75 % which is satisfactory."
   ]
  }
 ],
 "metadata": {
  "kernelspec": {
   "display_name": "Python 3",
   "language": "python",
   "name": "python3"
  },
  "language_info": {
   "codemirror_mode": {
    "name": "ipython",
    "version": 3
   },
   "file_extension": ".py",
   "mimetype": "text/x-python",
   "name": "python",
   "nbconvert_exporter": "python",
   "pygments_lexer": "ipython3",
   "version": "3.7.6"
  }
 },
 "nbformat": 4,
 "nbformat_minor": 4
}
